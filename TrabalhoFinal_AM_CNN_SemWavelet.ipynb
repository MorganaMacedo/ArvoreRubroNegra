{
  "nbformat": 4,
  "nbformat_minor": 0,
  "metadata": {
    "kernelspec": {
      "language": "python",
      "display_name": "Python 3",
      "name": "python3"
    },
    "language_info": {
      "name": "python",
      "version": "3.6.6",
      "mimetype": "text/x-python",
      "codemirror_mode": {
        "name": "ipython",
        "version": 3
      },
      "pygments_lexer": "ipython3",
      "nbconvert_exporter": "python",
      "file_extension": ".py"
    },
    "colab": {
      "name": "TrabalhoFinal_AM_CNN_SemWavelet",
      "provenance": [],
      "collapsed_sections": [],
      "include_colab_link": true
    }
  },
  "cells": [
    {
      "cell_type": "markdown",
      "metadata": {
        "id": "view-in-github",
        "colab_type": "text"
      },
      "source": [
        "<a href=\"https://colab.research.google.com/github/MorganaMacedo/ArvoreRubroNegra/blob/master/TrabalhoFinal_AM_CNN_SemWavelet.ipynb\" target=\"_parent\"><img src=\"https://colab.research.google.com/assets/colab-badge.svg\" alt=\"Open In Colab\"/></a>"
      ]
    },
    {
      "cell_type": "markdown",
      "metadata": {
        "id": "eZ1Edv_oNCqM"
      },
      "source": [
        "#Banco de dados Respiratory sound, disponível para download no site:\n",
        "---\n",
        "https://bhichallenge.med.auth.gr/ICBHI_2017_Challenge"
      ]
    },
    {
      "cell_type": "code",
      "metadata": {
        "colab": {
          "base_uri": "https://localhost:8080/"
        },
        "id": "SPc3X_tlJYC_",
        "outputId": "5d3b046c-9a06-4281-b391-a7f2d3671d69"
      },
      "source": [
        "from google.colab import drive\n",
        "drive.mount('/content/drive')"
      ],
      "execution_count": 9,
      "outputs": [
        {
          "output_type": "stream",
          "name": "stdout",
          "text": [
            "Drive already mounted at /content/drive; to attempt to forcibly remount, call drive.mount(\"/content/drive\", force_remount=True).\n"
          ]
        }
      ]
    },
    {
      "cell_type": "code",
      "metadata": {
        "colab": {
          "base_uri": "https://localhost:8080/"
        },
        "id": "FzwSq_KacuV-",
        "outputId": "4074e5fb-001c-434c-f8ac-a45e6ffd9c22"
      },
      "source": [
        "!pip install wavio"
      ],
      "execution_count": 10,
      "outputs": [
        {
          "output_type": "stream",
          "name": "stdout",
          "text": [
            "Collecting wavio\n",
            "  Downloading wavio-0.0.4-py2.py3-none-any.whl (9.0 kB)\n",
            "Requirement already satisfied: numpy>=1.6.0 in /usr/local/lib/python3.7/dist-packages (from wavio) (1.19.5)\n",
            "Installing collected packages: wavio\n",
            "Successfully installed wavio-0.0.4\n"
          ]
        }
      ]
    },
    {
      "cell_type": "code",
      "metadata": {
        "colab": {
          "base_uri": "https://localhost:8080/"
        },
        "id": "OkqZVuKkdpYj",
        "outputId": "39e9634b-3da7-4eb8-cfd2-4f93abb949f5"
      },
      "source": [
        "!pip install keras"
      ],
      "execution_count": 11,
      "outputs": [
        {
          "output_type": "stream",
          "name": "stdout",
          "text": [
            "Requirement already satisfied: keras in /usr/local/lib/python3.7/dist-packages (2.7.0)\n"
          ]
        }
      ]
    },
    {
      "cell_type": "code",
      "metadata": {
        "colab": {
          "base_uri": "https://localhost:8080/"
        },
        "id": "thFCZ2ieZIuL",
        "outputId": "00570a88-a4f3-4c08-f4de-fc6e358bae75"
      },
      "source": [
        "!pip install pydub"
      ],
      "execution_count": 12,
      "outputs": [
        {
          "output_type": "stream",
          "name": "stdout",
          "text": [
            "Collecting pydub\n",
            "  Downloading pydub-0.25.1-py2.py3-none-any.whl (32 kB)\n",
            "Installing collected packages: pydub\n",
            "Successfully installed pydub-0.25.1\n"
          ]
        }
      ]
    },
    {
      "cell_type": "code",
      "metadata": {
        "colab": {
          "base_uri": "https://localhost:8080/"
        },
        "id": "1L4CULU5fVfZ",
        "outputId": "2944747e-6949-4c2e-963f-0a20ca96f18f"
      },
      "source": [
        "!pip install -U tensorflow-addons\n",
        "!pip install -q \"tqdm>=4.36.1\""
      ],
      "execution_count": 13,
      "outputs": [
        {
          "output_type": "stream",
          "name": "stdout",
          "text": [
            "Collecting tensorflow-addons\n",
            "  Downloading tensorflow_addons-0.15.0-cp37-cp37m-manylinux_2_12_x86_64.manylinux2010_x86_64.whl (1.1 MB)\n",
            "\u001b[K     |████████████████████████████████| 1.1 MB 5.9 MB/s \n",
            "\u001b[?25hRequirement already satisfied: typeguard>=2.7 in /usr/local/lib/python3.7/dist-packages (from tensorflow-addons) (2.7.1)\n",
            "Installing collected packages: tensorflow-addons\n",
            "Successfully installed tensorflow-addons-0.15.0\n"
          ]
        }
      ]
    },
    {
      "cell_type": "code",
      "metadata": {
        "_uuid": "d629ff2d2480ee46fbb7e2d37f6b5fab8052498a",
        "_cell_guid": "79c7e3d0-c299-4dcb-8224-4455121ee9b0",
        "execution": {
          "iopub.status.busy": "2021-11-23T00:04:08.169416Z",
          "iopub.execute_input": "2021-11-23T00:04:08.170258Z",
          "iopub.status.idle": "2021-11-23T00:04:08.182747Z",
          "shell.execute_reply.started": "2021-11-23T00:04:08.170021Z",
          "shell.execute_reply": "2021-11-23T00:04:08.181082Z"
        },
        "trusted": true,
        "id": "XOsgiuzwJDkn"
      },
      "source": [
        "import numpy as np\n",
        "import pandas as pd\n",
        "import seaborn as sns\n",
        "import librosa\n",
        "import librosa.display\n",
        "from datetime import datetime\n",
        "from os import listdir\n",
        "from os.path import isfile, join\n",
        "from tensorflow.keras.models import Sequential\n",
        "from tensorflow.keras.layers import Dense, Dropout, Conv2D, MaxPooling2D, GlobalAveragePooling2D\n",
        "from tensorflow.keras.utils import to_categorical\n",
        "from tensorflow.keras.callbacks import ModelCheckpoint \n",
        "from sklearn.metrics import confusion_matrix, classification_report, roc_curve, auc\n",
        "from sklearn.model_selection import train_test_split\n",
        "from sklearn.preprocessing import LabelEncoder\n",
        "import matplotlib.pyplot as plt"
      ],
      "execution_count": 14,
      "outputs": []
    },
    {
      "cell_type": "code",
      "metadata": {
        "execution": {
          "iopub.status.busy": "2021-11-23T00:04:08.186326Z",
          "iopub.execute_input": "2021-11-23T00:04:08.187454Z",
          "iopub.status.idle": "2021-11-23T00:04:09.033652Z",
          "shell.execute_reply.started": "2021-11-23T00:04:08.187386Z",
          "shell.execute_reply": "2021-11-23T00:04:09.032662Z"
        },
        "trusted": true,
        "id": "5bODtfLaJDkq"
      },
      "source": [
        "audio_bd = '/content/drive/MyDrive/Trabalho_AM_DMA/events/'\n",
        "audio_wav = [i for i in listdir(audio_bd) if (isfile(join(audio_bd, i)) and i.endswith('.wav'))] "
      ],
      "execution_count": 15,
      "outputs": []
    },
    {
      "cell_type": "code",
      "metadata": {
        "execution": {
          "iopub.status.busy": "2021-11-23T00:04:09.035801Z",
          "iopub.execute_input": "2021-11-23T00:04:09.036398Z",
          "iopub.status.idle": "2021-11-23T00:04:09.044768Z",
          "shell.execute_reply.started": "2021-11-23T00:04:09.036321Z",
          "shell.execute_reply": "2021-11-23T00:04:09.043508Z"
        },
        "trusted": true,
        "id": "8n5QmDXyJDks"
      },
      "source": [
        "id = [] \n",
        "for audio_nome in audio_wav:\n",
        "    id.append(int(audio_nome[:3]))\n",
        "\n",
        "id = np.array(id) "
      ],
      "execution_count": 16,
      "outputs": []
    },
    {
      "cell_type": "code",
      "metadata": {
        "execution": {
          "iopub.status.busy": "2021-11-23T00:04:09.047184Z",
          "iopub.execute_input": "2021-11-23T00:04:09.047808Z",
          "iopub.status.idle": "2021-11-23T00:04:09.059157Z",
          "shell.execute_reply.started": "2021-11-23T00:04:09.047529Z",
          "shell.execute_reply": "2021-11-23T00:04:09.057651Z"
        },
        "trusted": true,
        "id": "gsiMye0eJDkt"
      },
      "source": [
        "max_pad_len = 862 # to make the length of all MFCC equal\n",
        "\n",
        "def extract_features(file_name):\n",
        "    \"\"\"\n",
        "    This function takes in the path for an audio file as a string, loads it, and returns the MFCC\n",
        "    of the audio\"\"\"\n",
        "   \n",
        "    try:\n",
        "        audio, sample_rate = librosa.load(file_name, res_type='kaiser_fast', duration=20) \n",
        "        mfccs = librosa.feature.mfcc(y=audio, sr=sample_rate, n_mfcc=40)\n",
        "        pad_width = max_pad_len - mfccs.shape[1]\n",
        "        mfccs = np.pad(mfccs, pad_width=((0, 0), (0, pad_width)), mode='constant')\n",
        "        \n",
        "    except Exception as e:\n",
        "        print(\"Error encountered while parsing file: \", file_name)\n",
        "        return None \n",
        "     \n",
        "    return mfccs"
      ],
      "execution_count": 17,
      "outputs": []
    },
    {
      "cell_type": "code",
      "metadata": {
        "execution": {
          "iopub.status.busy": "2021-11-23T00:04:09.064757Z",
          "iopub.execute_input": "2021-11-23T00:04:09.065474Z",
          "iopub.status.idle": "2021-11-23T00:04:09.073644Z",
          "shell.execute_reply.started": "2021-11-23T00:04:09.065133Z",
          "shell.execute_reply": "2021-11-23T00:04:09.072314Z"
        },
        "trusted": true,
        "id": "qVrlbyGrJDku"
      },
      "source": [
        "todos_audio = [join(audio_bd, i) for i in audio_wav]"
      ],
      "execution_count": 18,
      "outputs": []
    },
    {
      "cell_type": "code",
      "metadata": {
        "execution": {
          "iopub.status.busy": "2021-11-23T00:04:09.078462Z",
          "iopub.execute_input": "2021-11-23T00:04:09.079109Z",
          "iopub.status.idle": "2021-11-23T00:04:09.093276Z",
          "shell.execute_reply.started": "2021-11-23T00:04:09.078847Z",
          "shell.execute_reply": "2021-11-23T00:04:09.092172Z"
        },
        "trusted": true,
        "id": "NZEYLlRvJDkv"
      },
      "source": [
        "doenca = pd.read_csv('/content/drive/MyDrive/Trabalho_AM_DMA/patient_diagnosis.csv',header=None) # patient diagnosis file"
      ],
      "execution_count": 19,
      "outputs": []
    },
    {
      "cell_type": "code",
      "metadata": {
        "execution": {
          "iopub.status.busy": "2021-11-23T00:04:09.096693Z",
          "iopub.execute_input": "2021-11-23T00:04:09.097494Z",
          "iopub.status.idle": "2021-11-23T00:04:09.989132Z",
          "shell.execute_reply.started": "2021-11-23T00:04:09.097414Z",
          "shell.execute_reply": "2021-11-23T00:04:09.988081Z"
        },
        "trusted": true,
        "id": "wXYSl7TFJDkz"
      },
      "source": [
        "labels = np.array([doenca[doenca[0] == x][1].values[0] for x in id])"
      ],
      "execution_count": 20,
      "outputs": []
    },
    {
      "cell_type": "code",
      "metadata": {
        "execution": {
          "iopub.status.busy": "2021-11-23T00:04:09.991691Z",
          "iopub.execute_input": "2021-11-23T00:04:09.992004Z",
          "iopub.status.idle": "2021-11-23T00:08:19.500866Z",
          "shell.execute_reply.started": "2021-11-23T00:04:09.991918Z",
          "shell.execute_reply": "2021-11-23T00:08:19.499764Z"
        },
        "trusted": true,
        "colab": {
          "base_uri": "https://localhost:8080/"
        },
        "id": "5sMXx9EUJDk3",
        "outputId": "d4a37143-1d3b-4991-edc2-f9b19facdf7b"
      },
      "source": [
        "audios = [] \n",
        "\n",
        "for file_name in todos_audio:\n",
        "    dado = extract_features(file_name)\n",
        "    audios.append(dado)\n",
        "\n",
        "print('Número de amostras', len(audios), ' de áudio')\n",
        "audios = np.array(audios)"
      ],
      "execution_count": 21,
      "outputs": [
        {
          "output_type": "stream",
          "name": "stdout",
          "text": [
            "Número de amostras 920  de áudio\n"
          ]
        }
      ]
    },
    {
      "cell_type": "code",
      "metadata": {
        "execution": {
          "iopub.status.busy": "2021-11-23T00:08:19.502630Z",
          "iopub.execute_input": "2021-11-23T00:08:19.503672Z",
          "iopub.status.idle": "2021-11-23T00:08:19.973562Z",
          "shell.execute_reply.started": "2021-11-23T00:08:19.503610Z",
          "shell.execute_reply": "2021-11-23T00:08:19.972584Z"
        },
        "trusted": true,
        "colab": {
          "base_uri": "https://localhost:8080/",
          "height": 296
        },
        "id": "1zSea-p6JDk5",
        "outputId": "0b7c2ba7-c9b6-4051-e95c-4eead67f39a3"
      },
      "source": [
        "plt.figure(figsize=(10, 4))\n",
        "librosa.display.specshow(audios[7], x_axis='tempo')\n",
        "plt.colorbar()\n",
        "plt.title('Espectro audio MFCC da librosa')\n",
        "plt.tight_layout()\n",
        "plt.show()"
      ],
      "execution_count": 22,
      "outputs": [
        {
          "output_type": "display_data",
          "data": {
            "image/png": "[encoded data removed]",
            "text/plain": [
              "<Figure size 720x288 with 2 Axes>"
            ]
          },
          "metadata": {
            "needs_background": "light"
          }
        }
      ]
    },
    {
      "cell_type": "code",
      "metadata": {
        "execution": {
          "iopub.status.busy": "2021-11-23T00:08:19.975213Z",
          "iopub.execute_input": "2021-11-23T00:08:19.975823Z",
          "iopub.status.idle": "2021-11-23T00:08:20.045892Z",
          "shell.execute_reply.started": "2021-11-23T00:08:19.975760Z",
          "shell.execute_reply": "2021-11-23T00:08:20.044899Z"
        },
        "trusted": true,
        "id": "nwm09Dd1JDk9"
      },
      "source": [
        "audios = np.array(audios) "
      ],
      "execution_count": 23,
      "outputs": []
    },
    {
      "cell_type": "code",
      "metadata": {
        "execution": {
          "iopub.status.busy": "2021-11-23T00:08:20.047582Z",
          "iopub.execute_input": "2021-11-23T00:08:20.048114Z",
          "iopub.status.idle": "2021-11-23T00:08:20.119624Z",
          "shell.execute_reply.started": "2021-11-23T00:08:20.048039Z",
          "shell.execute_reply": "2021-11-23T00:08:20.118666Z"
        },
        "trusted": true,
        "id": "yYcUVWELJDk_"
      },
      "source": [
        "audios1 = np.delete(audios, np.where((labels == 'Asthma') | (labels == 'LRTI'))[0], axis=0) \n",
        "labels1 = np.delete(labels, np.where((labels == 'Asthma') | (labels == 'LRTI'))[0], axis=0)"
      ],
      "execution_count": 24,
      "outputs": []
    },
    {
      "cell_type": "code",
      "metadata": {
        "execution": {
          "iopub.status.busy": "2021-11-23T00:08:20.121960Z",
          "iopub.execute_input": "2021-11-23T00:08:20.122441Z",
          "iopub.status.idle": "2021-11-23T00:08:20.131114Z",
          "shell.execute_reply.started": "2021-11-23T00:08:20.122280Z",
          "shell.execute_reply": "2021-11-23T00:08:20.129878Z"
        },
        "trusted": true,
        "colab": {
          "base_uri": "https://localhost:8080/"
        },
        "id": "0_fJG3wHJDlB",
        "outputId": "14235f77-bdd5-43a6-e8d2-18d6109bc680"
      },
      "source": [
        "unicos, count = np.unique(labels1, return_counts=True)\n",
        "print(np.asarray((unicos, count)))"
      ],
      "execution_count": 25,
      "outputs": [
        {
          "output_type": "stream",
          "name": "stdout",
          "text": [
            "[['Bronchiectasis' 'Bronchiolitis' 'COPD' 'Healthy' 'Pneumonia' 'URTI']\n",
            " ['16' '13' '793' '35' '37' '23']]\n"
          ]
        }
      ]
    },
    {
      "cell_type": "code",
      "metadata": {
        "execution": {
          "iopub.status.busy": "2021-11-23T00:08:20.132909Z",
          "iopub.execute_input": "2021-11-23T00:08:20.133506Z",
          "iopub.status.idle": "2021-11-23T00:08:20.459798Z",
          "shell.execute_reply.started": "2021-11-23T00:08:20.133443Z",
          "shell.execute_reply": "2021-11-23T00:08:20.458819Z"
        },
        "trusted": true,
        "colab": {
          "base_uri": "https://localhost:8080/",
          "height": 513
        },
        "id": "5X7o7toIJDlD",
        "outputId": "89c90b73-c24a-496a-db0a-0c0bf7035f8e"
      },
      "source": [
        "y_pos = np.arange(len(unicos))\n",
        "plt.figure(figsize=(12,8))\n",
        "plt.bar(unicos, count, align='center', alpha=0.5)\n",
        "plt.xticks(y_pos, unicos)\n",
        "plt.ylabel('Números')\n",
        "plt.xlabel('Tipo doença')\n",
        "plt.title('Conta número de doenças em arquivos de som (Sem Asthma ou LRTI)')\n",
        "plt.show()"
      ],
      "execution_count": 26,
      "outputs": [
        {
          "output_type": "display_data",
          "data": {
            "image/png": "[encoded data removed]",
            "text/plain": [
              "<Figure size 864x576 with 1 Axes>"
            ]
          },
          "metadata": {
            "needs_background": "light"
          }
        }
      ]
    },
    {
      "cell_type": "code",
      "metadata": {
        "execution": {
          "iopub.status.busy": "2021-11-23T00:08:20.461387Z",
          "iopub.execute_input": "2021-11-23T00:08:20.462260Z",
          "iopub.status.idle": "2021-11-23T00:08:20.472446Z",
          "shell.execute_reply.started": "2021-11-23T00:08:20.462166Z",
          "shell.execute_reply": "2021-11-23T00:08:20.471258Z"
        },
        "trusted": true,
        "id": "00t3AruEJDlE"
      },
      "source": [
        "le = LabelEncoder()\n",
        "transf = le.fit_transform(labels1)\n",
        "categorico = to_categorical(transf) "
      ],
      "execution_count": 27,
      "outputs": []
    },
    {
      "cell_type": "code",
      "metadata": {
        "execution": {
          "iopub.status.busy": "2021-11-23T00:08:20.474334Z",
          "iopub.execute_input": "2021-11-23T00:08:20.475099Z",
          "iopub.status.idle": "2021-11-23T00:08:20.483988Z",
          "shell.execute_reply.started": "2021-11-23T00:08:20.475028Z",
          "shell.execute_reply": "2021-11-23T00:08:20.482792Z"
        },
        "trusted": true,
        "id": "KNS-eWhJJDlE"
      },
      "source": [
        "audios1 = np.reshape(audios1, (*audios1.shape,1)) "
      ],
      "execution_count": 28,
      "outputs": []
    },
    {
      "cell_type": "code",
      "metadata": {
        "execution": {
          "iopub.status.busy": "2021-11-23T00:08:20.486120Z",
          "iopub.execute_input": "2021-11-23T00:08:20.486929Z",
          "iopub.status.idle": "2021-11-23T00:08:20.541049Z",
          "shell.execute_reply.started": "2021-11-23T00:08:20.486864Z",
          "shell.execute_reply": "2021-11-23T00:08:20.540156Z"
        },
        "trusted": true,
        "id": "t63_XTRQJDlF"
      },
      "source": [
        "X_treino, X_teste, Y_treino, Y_teste = train_test_split(audios1, categorico, stratify=categorico, test_size=0.2, random_state = 42)"
      ],
      "execution_count": 29,
      "outputs": []
    },
    {
      "cell_type": "code",
      "metadata": {
        "execution": {
          "iopub.status.busy": "2021-11-23T00:08:20.544014Z",
          "iopub.execute_input": "2021-11-23T00:08:20.544746Z",
          "iopub.status.idle": "2021-11-23T00:08:20.712786Z",
          "shell.execute_reply.started": "2021-11-23T00:08:20.544671Z",
          "shell.execute_reply": "2021-11-23T00:08:20.711852Z"
        },
        "trusted": true,
        "id": "GQk5srVuJDlJ"
      },
      "source": [
        "linhas = 40\n",
        "colunas = 862\n",
        "canal = 1\n",
        "\n",
        "num_labels = categorico.shape[1]\n",
        "tam_filtro = 2\n",
        "###############################################################################################################################\n",
        "modelo = Sequential()\n",
        "modelo.add(Conv2D(filters=16, kernel_size=tam_filtro, input_shape=(linhas, colunas, canal), activation='relu'))\n",
        "modelo.add(MaxPooling2D(pool_size=2))\n",
        "modelo.add(Dropout(0.2))\n",
        "###############################################################################################################################\n",
        "modelo.add(Conv2D(filters=32, kernel_size=tam_filtro, activation='relu'))\n",
        "modelo.add(MaxPooling2D(pool_size=2))\n",
        "modelo.add(Dropout(0.2))\n",
        "###############################################################################################################################\n",
        "modelo.add(Conv2D(filters=64, kernel_size=tam_filtro, activation='relu'))\n",
        "modelo.add(MaxPooling2D(pool_size=2))\n",
        "modelo.add(Dropout(0.2))\n",
        "###############################################################################################################################\n",
        "modelo.add(Conv2D(filters=128, kernel_size=tam_filtro, activation='relu'))\n",
        "modelo.add(MaxPooling2D(pool_size=2))\n",
        "modelo.add(Dropout(0.2))\n",
        "###############################################################################################################################\n",
        "modelo.add(GlobalAveragePooling2D())\n",
        "modelo.add(Dense(num_labels, activation='softmax')) "
      ],
      "execution_count": 30,
      "outputs": []
    },
    {
      "cell_type": "code",
      "metadata": {
        "execution": {
          "iopub.status.busy": "2021-11-23T00:08:20.714747Z",
          "iopub.execute_input": "2021-11-23T00:08:20.715083Z",
          "iopub.status.idle": "2021-11-23T00:08:20.758812Z",
          "shell.execute_reply.started": "2021-11-23T00:08:20.715025Z",
          "shell.execute_reply": "2021-11-23T00:08:20.757819Z"
        },
        "trusted": true,
        "id": "-sPLD5spJDlK"
      },
      "source": [
        "modelo.compile(loss='categorical_crossentropy', metrics=['accuracy'], optimizer='adam') "
      ],
      "execution_count": 31,
      "outputs": []
    },
    {
      "cell_type": "code",
      "metadata": {
        "execution": {
          "iopub.status.busy": "2021-11-23T00:08:20.761777Z",
          "iopub.execute_input": "2021-11-23T00:08:20.762341Z",
          "iopub.status.idle": "2021-11-23T00:08:20.998490Z",
          "shell.execute_reply.started": "2021-11-23T00:08:20.762277Z",
          "shell.execute_reply": "2021-11-23T00:08:20.997692Z"
        },
        "trusted": true,
        "colab": {
          "base_uri": "https://localhost:8080/"
        },
        "id": "au1dMVsnJDlL",
        "outputId": "abc74a6f-36c8-4c11-d5b1-8be1d16f3d9e"
      },
      "source": [
        "modelo.summary()\n",
        "score = modelo.evaluate(X_teste, Y_teste, verbose=1)\n",
        "acuracia = 100*score[1]\n",
        "print(\"Acurácia pré treinamento: %.4f%%\" % acuracia)"
      ],
      "execution_count": 32,
      "outputs": [
        {
          "output_type": "stream",
          "name": "stdout",
          "text": [
            "Model: \"sequential\"\n",
            "_________________________________________________________________\n",
            " Layer (type)                Output Shape              Param #   \n",
            "=================================================================\n",
            " conv2d (Conv2D)             (None, 39, 861, 16)       80        \n",
            "                                                                 \n",
            " max_pooling2d (MaxPooling2D  (None, 19, 430, 16)      0         \n",
            " )                                                               \n",
            "                                                                 \n",
            " dropout (Dropout)           (None, 19, 430, 16)       0         \n",
            "                                                                 \n",
            " conv2d_1 (Conv2D)           (None, 18, 429, 32)       2080      \n",
            "                                                                 \n",
            " max_pooling2d_1 (MaxPooling  (None, 9, 214, 32)       0         \n",
            " 2D)                                                             \n",
            "                                                                 \n",
            " dropout_1 (Dropout)         (None, 9, 214, 32)        0         \n",
            "                                                                 \n",
            " conv2d_2 (Conv2D)           (None, 8, 213, 64)        8256      \n",
            "                                                                 \n",
            " max_pooling2d_2 (MaxPooling  (None, 4, 106, 64)       0         \n",
            " 2D)                                                             \n",
            "                                                                 \n",
            " dropout_2 (Dropout)         (None, 4, 106, 64)        0         \n",
            "                                                                 \n",
            " conv2d_3 (Conv2D)           (None, 3, 105, 128)       32896     \n",
            "                                                                 \n",
            " max_pooling2d_3 (MaxPooling  (None, 1, 52, 128)       0         \n",
            " 2D)                                                             \n",
            "                                                                 \n",
            " dropout_3 (Dropout)         (None, 1, 52, 128)        0         \n",
            "                                                                 \n",
            " global_average_pooling2d (G  (None, 128)              0         \n",
            " lobalAveragePooling2D)                                          \n",
            "                                                                 \n",
            " dense (Dense)               (None, 6)                 774       \n",
            "                                                                 \n",
            "=================================================================\n",
            "Total params: 44,086\n",
            "Trainable params: 44,086\n",
            "Non-trainable params: 0\n",
            "_________________________________________________________________\n",
            "6/6 [==============================] - 2s 183ms/step - loss: 8.0505 - accuracy: 0.0163\n",
            "Acurácia pré treinamento: 1.6304%\n"
          ]
        }
      ]
    },
    {
      "cell_type": "markdown",
      "metadata": {
        "id": "8txgIQ9CJDlL"
      },
      "source": [
        "#Treinamento#"
      ]
    },
    {
      "cell_type": "code",
      "metadata": {
        "id": "zOF0mh6lSkAp"
      },
      "source": [
        "import os\n",
        "os.makedirs('/content/drive/MyDrive/Trabalho_AM_DMA/salvaModelo1/')"
      ],
      "execution_count": 34,
      "outputs": []
    },
    {
      "cell_type": "code",
      "metadata": {
        "execution": {
          "iopub.status.busy": "2021-11-23T00:08:21.000169Z",
          "iopub.execute_input": "2021-11-23T00:08:21.000591Z",
          "iopub.status.idle": "2021-11-23T00:09:32.696069Z",
          "shell.execute_reply.started": "2021-11-23T00:08:21.000530Z",
          "shell.execute_reply": "2021-11-23T00:09:32.695085Z"
        },
        "trusted": true,
        "colab": {
          "base_uri": "https://localhost:8080/"
        },
        "id": "33dWdeD9JDlM",
        "outputId": "d901c15a-a8bb-4f5d-c05a-51966302a57b"
      },
      "source": [
        "epocas = 250\n",
        "batch = 128\n",
        "\n",
        "callbacks = [\n",
        "    ModelCheckpoint(filepath='/content/drive/MyDrive/Trabalho_AM_DMA/salvaModelo1/modelo2_{epoch:02d}.h5',save_best_only=True,monitor='val_accuracy', verbose=1)\n",
        "]\n",
        "comeco = datetime.now()\n",
        "modelo.fit(X_treino, Y_treino, batch_size=batch, epochs=epocas,validation_data=(X_teste, Y_teste), callbacks=callbacks, verbose=1)\n",
        "\n",
        "duracao = datetime.now() - comeco\n",
        "print(\"Tempo de treinamento: \", duracao)"
      ],
      "execution_count": 35,
      "outputs": [
        {
          "output_type": "stream",
          "name": "stdout",
          "text": [
            "Epoch 1/250\n",
            "6/6 [==============================] - ETA: 0s - loss: 5.8259 - accuracy: 0.6289\n",
            "Epoch 00001: val_accuracy improved from -inf to 0.85870, saving model to /content/drive/MyDrive/Trabalho_AM_DMA/salvaModelo1/modelo2_01.h5\n",
            "6/6 [==============================] - 19s 3s/step - loss: 5.8259 - accuracy: 0.6289 - val_loss: 1.8956 - val_accuracy: 0.8587\n",
            "Epoch 2/250\n",
            "6/6 [==============================] - ETA: 0s - loss: 3.1673 - accuracy: 0.8363\n",
            "Epoch 00002: val_accuracy did not improve from 0.85870\n",
            "6/6 [==============================] - 18s 3s/step - loss: 3.1673 - accuracy: 0.8363 - val_loss: 1.3974 - val_accuracy: 0.8533\n",
            "Epoch 3/250\n",
            "6/6 [==============================] - ETA: 0s - loss: 2.1275 - accuracy: 0.7995\n",
            "Epoch 00003: val_accuracy did not improve from 0.85870\n",
            "6/6 [==============================] - 17s 3s/step - loss: 2.1275 - accuracy: 0.7995 - val_loss: 1.5551 - val_accuracy: 0.6685\n",
            "Epoch 4/250\n",
            "6/6 [==============================] - ETA: 0s - loss: 1.5848 - accuracy: 0.8377\n",
            "Epoch 00004: val_accuracy did not improve from 0.85870\n",
            "6/6 [==============================] - 17s 3s/step - loss: 1.5848 - accuracy: 0.8377 - val_loss: 0.9922 - val_accuracy: 0.8315\n",
            "Epoch 5/250\n",
            "6/6 [==============================] - ETA: 0s - loss: 1.4409 - accuracy: 0.8308\n",
            "Epoch 00005: val_accuracy did not improve from 0.85870\n",
            "6/6 [==============================] - 17s 3s/step - loss: 1.4409 - accuracy: 0.8308 - val_loss: 0.8758 - val_accuracy: 0.8587\n",
            "Epoch 6/250\n",
            "6/6 [==============================] - ETA: 0s - loss: 1.1695 - accuracy: 0.8499\n",
            "Epoch 00006: val_accuracy did not improve from 0.85870\n",
            "6/6 [==============================] - 17s 3s/step - loss: 1.1695 - accuracy: 0.8499 - val_loss: 1.2579 - val_accuracy: 0.6848\n",
            "Epoch 7/250\n",
            "6/6 [==============================] - ETA: 0s - loss: 1.0241 - accuracy: 0.8540\n",
            "Epoch 00007: val_accuracy did not improve from 0.85870\n",
            "6/6 [==============================] - 17s 3s/step - loss: 1.0241 - accuracy: 0.8540 - val_loss: 0.8433 - val_accuracy: 0.8478\n",
            "Epoch 8/250\n",
            "6/6 [==============================] - ETA: 0s - loss: 0.9247 - accuracy: 0.8431\n",
            "Epoch 00008: val_accuracy did not improve from 0.85870\n",
            "6/6 [==============================] - 17s 3s/step - loss: 0.9247 - accuracy: 0.8431 - val_loss: 0.8702 - val_accuracy: 0.8207\n",
            "Epoch 9/250\n",
            "6/6 [==============================] - ETA: 0s - loss: 0.8052 - accuracy: 0.8581\n",
            "Epoch 00009: val_accuracy did not improve from 0.85870\n",
            "6/6 [==============================] - 17s 3s/step - loss: 0.8052 - accuracy: 0.8581 - val_loss: 0.9042 - val_accuracy: 0.7935\n",
            "Epoch 10/250\n",
            "6/6 [==============================] - ETA: 0s - loss: 0.7495 - accuracy: 0.8636\n",
            "Epoch 00010: val_accuracy did not improve from 0.85870\n",
            "6/6 [==============================] - 17s 3s/step - loss: 0.7495 - accuracy: 0.8636 - val_loss: 0.8175 - val_accuracy: 0.8370\n",
            "Epoch 11/250\n",
            "6/6 [==============================] - ETA: 0s - loss: 0.6844 - accuracy: 0.8513\n",
            "Epoch 00011: val_accuracy did not improve from 0.85870\n",
            "6/6 [==============================] - 17s 3s/step - loss: 0.6844 - accuracy: 0.8513 - val_loss: 0.7442 - val_accuracy: 0.8587\n",
            "Epoch 12/250\n",
            "6/6 [==============================] - ETA: 0s - loss: 0.6390 - accuracy: 0.8527\n",
            "Epoch 00012: val_accuracy did not improve from 0.85870\n",
            "6/6 [==============================] - 17s 3s/step - loss: 0.6390 - accuracy: 0.8527 - val_loss: 0.7473 - val_accuracy: 0.8424\n",
            "Epoch 13/250\n",
            "6/6 [==============================] - ETA: 0s - loss: 0.5942 - accuracy: 0.8663\n",
            "Epoch 00013: val_accuracy did not improve from 0.85870\n",
            "6/6 [==============================] - 17s 3s/step - loss: 0.5942 - accuracy: 0.8663 - val_loss: 0.7074 - val_accuracy: 0.8478\n",
            "Epoch 14/250\n",
            "6/6 [==============================] - ETA: 0s - loss: 0.5514 - accuracy: 0.8663\n",
            "Epoch 00014: val_accuracy did not improve from 0.85870\n",
            "6/6 [==============================] - 17s 3s/step - loss: 0.5514 - accuracy: 0.8663 - val_loss: 0.6764 - val_accuracy: 0.8587\n",
            "Epoch 15/250\n",
            "6/6 [==============================] - ETA: 0s - loss: 0.4989 - accuracy: 0.8581\n",
            "Epoch 00015: val_accuracy did not improve from 0.85870\n",
            "6/6 [==============================] - 17s 3s/step - loss: 0.4989 - accuracy: 0.8581 - val_loss: 0.6505 - val_accuracy: 0.8587\n",
            "Epoch 16/250\n",
            "6/6 [==============================] - ETA: 0s - loss: 0.4559 - accuracy: 0.8595\n",
            "Epoch 00016: val_accuracy did not improve from 0.85870\n",
            "6/6 [==============================] - 17s 3s/step - loss: 0.4559 - accuracy: 0.8595 - val_loss: 0.6515 - val_accuracy: 0.8424\n",
            "Epoch 17/250\n",
            "6/6 [==============================] - ETA: 0s - loss: 0.4613 - accuracy: 0.8608\n",
            "Epoch 00017: val_accuracy did not improve from 0.85870\n",
            "6/6 [==============================] - 17s 3s/step - loss: 0.4613 - accuracy: 0.8608 - val_loss: 0.6177 - val_accuracy: 0.8424\n",
            "Epoch 18/250\n",
            "6/6 [==============================] - ETA: 0s - loss: 0.4361 - accuracy: 0.8486\n",
            "Epoch 00018: val_accuracy did not improve from 0.85870\n",
            "6/6 [==============================] - 17s 3s/step - loss: 0.4361 - accuracy: 0.8486 - val_loss: 0.5749 - val_accuracy: 0.8587\n",
            "Epoch 19/250\n",
            "6/6 [==============================] - ETA: 0s - loss: 0.4298 - accuracy: 0.8581\n",
            "Epoch 00019: val_accuracy did not improve from 0.85870\n",
            "6/6 [==============================] - 17s 3s/step - loss: 0.4298 - accuracy: 0.8581 - val_loss: 0.5777 - val_accuracy: 0.8478\n",
            "Epoch 20/250\n",
            "6/6 [==============================] - ETA: 0s - loss: 0.4149 - accuracy: 0.8527\n",
            "Epoch 00020: val_accuracy did not improve from 0.85870\n",
            "6/6 [==============================] - 17s 3s/step - loss: 0.4149 - accuracy: 0.8527 - val_loss: 0.5579 - val_accuracy: 0.8587\n",
            "Epoch 21/250\n",
            "6/6 [==============================] - ETA: 0s - loss: 0.4108 - accuracy: 0.8581\n",
            "Epoch 00021: val_accuracy did not improve from 0.85870\n",
            "6/6 [==============================] - 17s 3s/step - loss: 0.4108 - accuracy: 0.8581 - val_loss: 0.5639 - val_accuracy: 0.8424\n",
            "Epoch 22/250\n",
            "6/6 [==============================] - ETA: 0s - loss: 0.4079 - accuracy: 0.8581\n",
            "Epoch 00022: val_accuracy did not improve from 0.85870\n",
            "6/6 [==============================] - 17s 3s/step - loss: 0.4079 - accuracy: 0.8581 - val_loss: 0.5304 - val_accuracy: 0.8533\n",
            "Epoch 23/250\n",
            "6/6 [==============================] - ETA: 0s - loss: 0.4001 - accuracy: 0.8581\n",
            "Epoch 00023: val_accuracy did not improve from 0.85870\n",
            "6/6 [==============================] - 17s 3s/step - loss: 0.4001 - accuracy: 0.8581 - val_loss: 0.5621 - val_accuracy: 0.8370\n",
            "Epoch 24/250\n",
            "6/6 [==============================] - ETA: 0s - loss: 0.3831 - accuracy: 0.8663\n",
            "Epoch 00024: val_accuracy did not improve from 0.85870\n",
            "6/6 [==============================] - 17s 3s/step - loss: 0.3831 - accuracy: 0.8663 - val_loss: 0.5372 - val_accuracy: 0.8533\n",
            "Epoch 25/250\n",
            "6/6 [==============================] - ETA: 0s - loss: 0.3687 - accuracy: 0.8690\n",
            "Epoch 00025: val_accuracy did not improve from 0.85870\n",
            "6/6 [==============================] - 17s 3s/step - loss: 0.3687 - accuracy: 0.8690 - val_loss: 0.5074 - val_accuracy: 0.8533\n",
            "Epoch 26/250\n",
            "6/6 [==============================] - ETA: 0s - loss: 0.3777 - accuracy: 0.8663\n",
            "Epoch 00026: val_accuracy did not improve from 0.85870\n",
            "6/6 [==============================] - 17s 3s/step - loss: 0.3777 - accuracy: 0.8663 - val_loss: 0.5411 - val_accuracy: 0.8478\n",
            "Epoch 27/250\n",
            "6/6 [==============================] - ETA: 0s - loss: 0.3777 - accuracy: 0.8649\n",
            "Epoch 00027: val_accuracy did not improve from 0.85870\n",
            "6/6 [==============================] - 17s 3s/step - loss: 0.3777 - accuracy: 0.8649 - val_loss: 0.5256 - val_accuracy: 0.8533\n",
            "Epoch 28/250\n",
            "6/6 [==============================] - ETA: 0s - loss: 0.3622 - accuracy: 0.8827\n",
            "Epoch 00028: val_accuracy did not improve from 0.85870\n",
            "6/6 [==============================] - 17s 3s/step - loss: 0.3622 - accuracy: 0.8827 - val_loss: 0.5019 - val_accuracy: 0.8533\n",
            "Epoch 29/250\n",
            "6/6 [==============================] - ETA: 0s - loss: 0.3683 - accuracy: 0.8731\n",
            "Epoch 00029: val_accuracy did not improve from 0.85870\n",
            "6/6 [==============================] - 17s 3s/step - loss: 0.3683 - accuracy: 0.8731 - val_loss: 0.5066 - val_accuracy: 0.8533\n",
            "Epoch 30/250\n",
            "6/6 [==============================] - ETA: 0s - loss: 0.3557 - accuracy: 0.8813\n",
            "Epoch 00030: val_accuracy did not improve from 0.85870\n",
            "6/6 [==============================] - 17s 3s/step - loss: 0.3557 - accuracy: 0.8813 - val_loss: 0.5365 - val_accuracy: 0.8587\n",
            "Epoch 31/250\n",
            "6/6 [==============================] - ETA: 0s - loss: 0.3669 - accuracy: 0.8718\n",
            "Epoch 00031: val_accuracy did not improve from 0.85870\n",
            "6/6 [==============================] - 17s 3s/step - loss: 0.3669 - accuracy: 0.8718 - val_loss: 0.4971 - val_accuracy: 0.8533\n",
            "Epoch 32/250\n",
            "6/6 [==============================] - ETA: 0s - loss: 0.3606 - accuracy: 0.8731\n",
            "Epoch 00032: val_accuracy did not improve from 0.85870\n",
            "6/6 [==============================] - 17s 3s/step - loss: 0.3606 - accuracy: 0.8731 - val_loss: 0.5331 - val_accuracy: 0.8533\n",
            "Epoch 33/250\n",
            "6/6 [==============================] - ETA: 0s - loss: 0.3442 - accuracy: 0.8731\n",
            "Epoch 00033: val_accuracy did not improve from 0.85870\n",
            "6/6 [==============================] - 17s 3s/step - loss: 0.3442 - accuracy: 0.8731 - val_loss: 0.4888 - val_accuracy: 0.8533\n",
            "Epoch 34/250\n",
            "6/6 [==============================] - ETA: 0s - loss: 0.3564 - accuracy: 0.8745\n",
            "Epoch 00034: val_accuracy improved from 0.85870 to 0.86413, saving model to /content/drive/MyDrive/Trabalho_AM_DMA/salvaModelo1/modelo2_34.h5\n",
            "6/6 [==============================] - 17s 3s/step - loss: 0.3564 - accuracy: 0.8745 - val_loss: 0.5058 - val_accuracy: 0.8641\n",
            "Epoch 35/250\n",
            "6/6 [==============================] - ETA: 0s - loss: 0.3349 - accuracy: 0.8868\n",
            "Epoch 00035: val_accuracy did not improve from 0.86413\n",
            "6/6 [==============================] - 17s 3s/step - loss: 0.3349 - accuracy: 0.8868 - val_loss: 0.4911 - val_accuracy: 0.8587\n",
            "Epoch 36/250\n",
            "6/6 [==============================] - ETA: 0s - loss: 0.3319 - accuracy: 0.8840\n",
            "Epoch 00036: val_accuracy did not improve from 0.86413\n",
            "6/6 [==============================] - 17s 3s/step - loss: 0.3319 - accuracy: 0.8840 - val_loss: 0.4934 - val_accuracy: 0.8641\n",
            "Epoch 37/250\n",
            "6/6 [==============================] - ETA: 0s - loss: 0.3443 - accuracy: 0.8799\n",
            "Epoch 00037: val_accuracy did not improve from 0.86413\n",
            "6/6 [==============================] - 18s 3s/step - loss: 0.3443 - accuracy: 0.8799 - val_loss: 0.5102 - val_accuracy: 0.8478\n",
            "Epoch 38/250\n",
            "6/6 [==============================] - ETA: 0s - loss: 0.3339 - accuracy: 0.8799\n",
            "Epoch 00038: val_accuracy did not improve from 0.86413\n",
            "6/6 [==============================] - 18s 3s/step - loss: 0.3339 - accuracy: 0.8799 - val_loss: 0.5035 - val_accuracy: 0.8533\n",
            "Epoch 39/250\n",
            "6/6 [==============================] - ETA: 0s - loss: 0.3314 - accuracy: 0.8799\n",
            "Epoch 00039: val_accuracy did not improve from 0.86413\n",
            "6/6 [==============================] - 17s 3s/step - loss: 0.3314 - accuracy: 0.8799 - val_loss: 0.4766 - val_accuracy: 0.8587\n",
            "Epoch 40/250\n",
            "6/6 [==============================] - ETA: 0s - loss: 0.3363 - accuracy: 0.8840\n",
            "Epoch 00040: val_accuracy did not improve from 0.86413\n",
            "6/6 [==============================] - 17s 3s/step - loss: 0.3363 - accuracy: 0.8840 - val_loss: 0.4715 - val_accuracy: 0.8587\n",
            "Epoch 41/250\n",
            "6/6 [==============================] - ETA: 0s - loss: 0.3446 - accuracy: 0.8745\n",
            "Epoch 00041: val_accuracy did not improve from 0.86413\n",
            "6/6 [==============================] - 17s 3s/step - loss: 0.3446 - accuracy: 0.8745 - val_loss: 0.5331 - val_accuracy: 0.8424\n",
            "Epoch 42/250\n",
            "6/6 [==============================] - ETA: 0s - loss: 0.3433 - accuracy: 0.8840\n",
            "Epoch 00042: val_accuracy did not improve from 0.86413\n",
            "6/6 [==============================] - 17s 3s/step - loss: 0.3433 - accuracy: 0.8840 - val_loss: 0.4706 - val_accuracy: 0.8641\n",
            "Epoch 43/250\n",
            "6/6 [==============================] - ETA: 0s - loss: 0.3109 - accuracy: 0.8936\n",
            "Epoch 00043: val_accuracy did not improve from 0.86413\n",
            "6/6 [==============================] - 17s 3s/step - loss: 0.3109 - accuracy: 0.8936 - val_loss: 0.4971 - val_accuracy: 0.8533\n",
            "Epoch 44/250\n",
            "6/6 [==============================] - ETA: 0s - loss: 0.3266 - accuracy: 0.8745\n",
            "Epoch 00044: val_accuracy did not improve from 0.86413\n",
            "6/6 [==============================] - 17s 3s/step - loss: 0.3266 - accuracy: 0.8745 - val_loss: 0.4528 - val_accuracy: 0.8641\n",
            "Epoch 45/250\n",
            "6/6 [==============================] - ETA: 0s - loss: 0.3155 - accuracy: 0.8922\n",
            "Epoch 00045: val_accuracy did not improve from 0.86413\n",
            "6/6 [==============================] - 17s 3s/step - loss: 0.3155 - accuracy: 0.8922 - val_loss: 0.4682 - val_accuracy: 0.8587\n",
            "Epoch 46/250\n",
            "6/6 [==============================] - ETA: 0s - loss: 0.3132 - accuracy: 0.8895\n",
            "Epoch 00046: val_accuracy did not improve from 0.86413\n",
            "6/6 [==============================] - 17s 3s/step - loss: 0.3132 - accuracy: 0.8895 - val_loss: 0.4529 - val_accuracy: 0.8641\n",
            "Epoch 47/250\n",
            "6/6 [==============================] - ETA: 0s - loss: 0.3109 - accuracy: 0.8909\n",
            "Epoch 00047: val_accuracy did not improve from 0.86413\n",
            "6/6 [==============================] - 17s 3s/step - loss: 0.3109 - accuracy: 0.8909 - val_loss: 0.4754 - val_accuracy: 0.8533\n",
            "Epoch 48/250\n",
            "6/6 [==============================] - ETA: 0s - loss: 0.3173 - accuracy: 0.8922\n",
            "Epoch 00048: val_accuracy did not improve from 0.86413\n",
            "6/6 [==============================] - 17s 3s/step - loss: 0.3173 - accuracy: 0.8922 - val_loss: 0.4682 - val_accuracy: 0.8641\n",
            "Epoch 49/250\n",
            "6/6 [==============================] - ETA: 0s - loss: 0.3428 - accuracy: 0.8881\n",
            "Epoch 00049: val_accuracy did not improve from 0.86413\n",
            "6/6 [==============================] - 17s 3s/step - loss: 0.3428 - accuracy: 0.8881 - val_loss: 0.4694 - val_accuracy: 0.8533\n",
            "Epoch 50/250\n",
            "6/6 [==============================] - ETA: 0s - loss: 0.3285 - accuracy: 0.8786\n",
            "Epoch 00050: val_accuracy did not improve from 0.86413\n",
            "6/6 [==============================] - 17s 3s/step - loss: 0.3285 - accuracy: 0.8786 - val_loss: 0.4580 - val_accuracy: 0.8587\n",
            "Epoch 51/250\n",
            "6/6 [==============================] - ETA: 0s - loss: 0.3132 - accuracy: 0.8977\n",
            "Epoch 00051: val_accuracy improved from 0.86413 to 0.86957, saving model to /content/drive/MyDrive/Trabalho_AM_DMA/salvaModelo1/modelo2_51.h5\n",
            "6/6 [==============================] - 17s 3s/step - loss: 0.3132 - accuracy: 0.8977 - val_loss: 0.4566 - val_accuracy: 0.8696\n",
            "Epoch 52/250\n",
            "6/6 [==============================] - ETA: 0s - loss: 0.3104 - accuracy: 0.8936\n",
            "Epoch 00052: val_accuracy did not improve from 0.86957\n",
            "6/6 [==============================] - 17s 3s/step - loss: 0.3104 - accuracy: 0.8936 - val_loss: 0.5064 - val_accuracy: 0.8370\n",
            "Epoch 53/250\n",
            "6/6 [==============================] - ETA: 0s - loss: 0.3153 - accuracy: 0.8895\n",
            "Epoch 00053: val_accuracy did not improve from 0.86957\n",
            "6/6 [==============================] - 17s 3s/step - loss: 0.3153 - accuracy: 0.8895 - val_loss: 0.4634 - val_accuracy: 0.8641\n",
            "Epoch 54/250\n",
            "6/6 [==============================] - ETA: 0s - loss: 0.3011 - accuracy: 0.8799\n",
            "Epoch 00054: val_accuracy did not improve from 0.86957\n",
            "6/6 [==============================] - 17s 3s/step - loss: 0.3011 - accuracy: 0.8799 - val_loss: 0.4780 - val_accuracy: 0.8533\n",
            "Epoch 55/250\n",
            "6/6 [==============================] - ETA: 0s - loss: 0.3008 - accuracy: 0.8909\n",
            "Epoch 00055: val_accuracy did not improve from 0.86957\n",
            "6/6 [==============================] - 17s 3s/step - loss: 0.3008 - accuracy: 0.8909 - val_loss: 0.4381 - val_accuracy: 0.8641\n",
            "Epoch 56/250\n",
            "6/6 [==============================] - ETA: 0s - loss: 0.2960 - accuracy: 0.8936\n",
            "Epoch 00056: val_accuracy did not improve from 0.86957\n",
            "6/6 [==============================] - 17s 3s/step - loss: 0.2960 - accuracy: 0.8936 - val_loss: 0.4540 - val_accuracy: 0.8533\n",
            "Epoch 57/250\n",
            "6/6 [==============================] - ETA: 0s - loss: 0.2795 - accuracy: 0.8895\n",
            "Epoch 00057: val_accuracy did not improve from 0.86957\n",
            "6/6 [==============================] - 17s 3s/step - loss: 0.2795 - accuracy: 0.8895 - val_loss: 0.4492 - val_accuracy: 0.8533\n",
            "Epoch 58/250\n",
            "6/6 [==============================] - ETA: 0s - loss: 0.2938 - accuracy: 0.8840\n",
            "Epoch 00058: val_accuracy did not improve from 0.86957\n",
            "6/6 [==============================] - 17s 3s/step - loss: 0.2938 - accuracy: 0.8840 - val_loss: 0.4444 - val_accuracy: 0.8696\n",
            "Epoch 59/250\n",
            "6/6 [==============================] - ETA: 0s - loss: 0.2919 - accuracy: 0.8922\n",
            "Epoch 00059: val_accuracy improved from 0.86957 to 0.87500, saving model to /content/drive/MyDrive/Trabalho_AM_DMA/salvaModelo1/modelo2_59.h5\n",
            "6/6 [==============================] - 17s 3s/step - loss: 0.2919 - accuracy: 0.8922 - val_loss: 0.4281 - val_accuracy: 0.8750\n",
            "Epoch 60/250\n",
            "6/6 [==============================] - ETA: 0s - loss: 0.2672 - accuracy: 0.9004\n",
            "Epoch 00060: val_accuracy did not improve from 0.87500\n",
            "6/6 [==============================] - 17s 3s/step - loss: 0.2672 - accuracy: 0.9004 - val_loss: 0.4476 - val_accuracy: 0.8587\n",
            "Epoch 61/250\n",
            "6/6 [==============================] - ETA: 0s - loss: 0.2787 - accuracy: 0.8977\n",
            "Epoch 00061: val_accuracy did not improve from 0.87500\n",
            "6/6 [==============================] - 17s 3s/step - loss: 0.2787 - accuracy: 0.8977 - val_loss: 0.4371 - val_accuracy: 0.8696\n",
            "Epoch 62/250\n",
            "6/6 [==============================] - ETA: 0s - loss: 0.2818 - accuracy: 0.8936\n",
            "Epoch 00062: val_accuracy did not improve from 0.87500\n",
            "6/6 [==============================] - 17s 3s/step - loss: 0.2818 - accuracy: 0.8936 - val_loss: 0.4330 - val_accuracy: 0.8750\n",
            "Epoch 63/250\n",
            "6/6 [==============================] - ETA: 0s - loss: 0.2899 - accuracy: 0.8868\n",
            "Epoch 00063: val_accuracy did not improve from 0.87500\n",
            "6/6 [==============================] - 17s 3s/step - loss: 0.2899 - accuracy: 0.8868 - val_loss: 0.4534 - val_accuracy: 0.8587\n",
            "Epoch 64/250\n",
            "6/6 [==============================] - ETA: 0s - loss: 0.2671 - accuracy: 0.9018\n",
            "Epoch 00064: val_accuracy did not improve from 0.87500\n",
            "6/6 [==============================] - 17s 3s/step - loss: 0.2671 - accuracy: 0.9018 - val_loss: 0.4372 - val_accuracy: 0.8587\n",
            "Epoch 65/250\n",
            "6/6 [==============================] - ETA: 0s - loss: 0.2622 - accuracy: 0.9018\n",
            "Epoch 00065: val_accuracy improved from 0.87500 to 0.88043, saving model to /content/drive/MyDrive/Trabalho_AM_DMA/salvaModelo1/modelo2_65.h5\n",
            "6/6 [==============================] - 17s 3s/step - loss: 0.2622 - accuracy: 0.9018 - val_loss: 0.4306 - val_accuracy: 0.8804\n",
            "Epoch 66/250\n",
            "6/6 [==============================] - ETA: 0s - loss: 0.2615 - accuracy: 0.9031\n",
            "Epoch 00066: val_accuracy did not improve from 0.88043\n",
            "6/6 [==============================] - 17s 3s/step - loss: 0.2615 - accuracy: 0.9031 - val_loss: 0.4315 - val_accuracy: 0.8641\n",
            "Epoch 67/250\n",
            "6/6 [==============================] - ETA: 0s - loss: 0.2621 - accuracy: 0.9086\n",
            "Epoch 00067: val_accuracy did not improve from 0.88043\n",
            "6/6 [==============================] - 17s 3s/step - loss: 0.2621 - accuracy: 0.9086 - val_loss: 0.4306 - val_accuracy: 0.8696\n",
            "Epoch 68/250\n",
            "6/6 [==============================] - ETA: 0s - loss: 0.2584 - accuracy: 0.9031\n",
            "Epoch 00068: val_accuracy did not improve from 0.88043\n",
            "6/6 [==============================] - 17s 3s/step - loss: 0.2584 - accuracy: 0.9031 - val_loss: 0.4314 - val_accuracy: 0.8641\n",
            "Epoch 69/250\n",
            "6/6 [==============================] - ETA: 0s - loss: 0.2563 - accuracy: 0.9127\n",
            "Epoch 00069: val_accuracy did not improve from 0.88043\n",
            "6/6 [==============================] - 17s 3s/step - loss: 0.2563 - accuracy: 0.9127 - val_loss: 0.4382 - val_accuracy: 0.8641\n",
            "Epoch 70/250\n",
            "6/6 [==============================] - ETA: 0s - loss: 0.2650 - accuracy: 0.9045\n",
            "Epoch 00070: val_accuracy did not improve from 0.88043\n",
            "6/6 [==============================] - 17s 3s/step - loss: 0.2650 - accuracy: 0.9045 - val_loss: 0.4267 - val_accuracy: 0.8533\n",
            "Epoch 71/250\n",
            "6/6 [==============================] - ETA: 0s - loss: 0.2524 - accuracy: 0.9168\n",
            "Epoch 00071: val_accuracy did not improve from 0.88043\n",
            "6/6 [==============================] - 18s 3s/step - loss: 0.2524 - accuracy: 0.9168 - val_loss: 0.4241 - val_accuracy: 0.8750\n",
            "Epoch 72/250\n",
            "6/6 [==============================] - ETA: 0s - loss: 0.2506 - accuracy: 0.9059\n",
            "Epoch 00072: val_accuracy did not improve from 0.88043\n",
            "6/6 [==============================] - 17s 3s/step - loss: 0.2506 - accuracy: 0.9059 - val_loss: 0.4321 - val_accuracy: 0.8696\n",
            "Epoch 73/250\n",
            "6/6 [==============================] - ETA: 0s - loss: 0.2661 - accuracy: 0.8936\n",
            "Epoch 00073: val_accuracy did not improve from 0.88043\n",
            "6/6 [==============================] - 17s 3s/step - loss: 0.2661 - accuracy: 0.8936 - val_loss: 0.4235 - val_accuracy: 0.8750\n",
            "Epoch 74/250\n",
            "6/6 [==============================] - ETA: 0s - loss: 0.2507 - accuracy: 0.9072\n",
            "Epoch 00074: val_accuracy did not improve from 0.88043\n",
            "6/6 [==============================] - 17s 3s/step - loss: 0.2507 - accuracy: 0.9072 - val_loss: 0.4381 - val_accuracy: 0.8641\n",
            "Epoch 75/250\n",
            "6/6 [==============================] - ETA: 0s - loss: 0.2778 - accuracy: 0.8977\n",
            "Epoch 00075: val_accuracy did not improve from 0.88043\n",
            "6/6 [==============================] - 17s 3s/step - loss: 0.2778 - accuracy: 0.8977 - val_loss: 0.4129 - val_accuracy: 0.8750\n",
            "Epoch 76/250\n",
            "6/6 [==============================] - ETA: 0s - loss: 0.2511 - accuracy: 0.9031\n",
            "Epoch 00076: val_accuracy did not improve from 0.88043\n",
            "6/6 [==============================] - 19s 3s/step - loss: 0.2511 - accuracy: 0.9031 - val_loss: 0.4308 - val_accuracy: 0.8750\n",
            "Epoch 77/250\n",
            "6/6 [==============================] - ETA: 0s - loss: 0.2722 - accuracy: 0.8963\n",
            "Epoch 00077: val_accuracy did not improve from 0.88043\n",
            "6/6 [==============================] - 17s 3s/step - loss: 0.2722 - accuracy: 0.8963 - val_loss: 0.4242 - val_accuracy: 0.8750\n",
            "Epoch 78/250\n",
            "6/6 [==============================] - ETA: 0s - loss: 0.2392 - accuracy: 0.9113\n",
            "Epoch 00078: val_accuracy did not improve from 0.88043\n",
            "6/6 [==============================] - 17s 3s/step - loss: 0.2392 - accuracy: 0.9113 - val_loss: 0.4316 - val_accuracy: 0.8641\n",
            "Epoch 79/250\n",
            "6/6 [==============================] - ETA: 0s - loss: 0.2391 - accuracy: 0.9086\n",
            "Epoch 00079: val_accuracy did not improve from 0.88043\n",
            "6/6 [==============================] - 17s 3s/step - loss: 0.2391 - accuracy: 0.9086 - val_loss: 0.4202 - val_accuracy: 0.8641\n",
            "Epoch 80/250\n",
            "6/6 [==============================] - ETA: 0s - loss: 0.2359 - accuracy: 0.9168\n",
            "Epoch 00080: val_accuracy did not improve from 0.88043\n",
            "6/6 [==============================] - 17s 3s/step - loss: 0.2359 - accuracy: 0.9168 - val_loss: 0.4263 - val_accuracy: 0.8750\n",
            "Epoch 81/250\n",
            "6/6 [==============================] - ETA: 0s - loss: 0.2347 - accuracy: 0.9168\n",
            "Epoch 00081: val_accuracy did not improve from 0.88043\n",
            "6/6 [==============================] - 17s 3s/step - loss: 0.2347 - accuracy: 0.9168 - val_loss: 0.4338 - val_accuracy: 0.8696\n",
            "Epoch 82/250\n",
            "6/6 [==============================] - ETA: 0s - loss: 0.2351 - accuracy: 0.9222\n",
            "Epoch 00082: val_accuracy did not improve from 0.88043\n",
            "6/6 [==============================] - 17s 3s/step - loss: 0.2351 - accuracy: 0.9222 - val_loss: 0.4372 - val_accuracy: 0.8696\n",
            "Epoch 83/250\n",
            "6/6 [==============================] - ETA: 0s - loss: 0.2554 - accuracy: 0.9031\n",
            "Epoch 00083: val_accuracy did not improve from 0.88043\n",
            "6/6 [==============================] - 17s 3s/step - loss: 0.2554 - accuracy: 0.9031 - val_loss: 0.4439 - val_accuracy: 0.8641\n",
            "Epoch 84/250\n",
            "6/6 [==============================] - ETA: 0s - loss: 0.2399 - accuracy: 0.9100\n",
            "Epoch 00084: val_accuracy did not improve from 0.88043\n",
            "6/6 [==============================] - 17s 3s/step - loss: 0.2399 - accuracy: 0.9100 - val_loss: 0.4347 - val_accuracy: 0.8641\n",
            "Epoch 85/250\n",
            "6/6 [==============================] - ETA: 0s - loss: 0.2412 - accuracy: 0.9113\n",
            "Epoch 00085: val_accuracy did not improve from 0.88043\n",
            "6/6 [==============================] - 17s 3s/step - loss: 0.2412 - accuracy: 0.9113 - val_loss: 0.4406 - val_accuracy: 0.8696\n",
            "Epoch 86/250\n",
            "6/6 [==============================] - ETA: 0s - loss: 0.2576 - accuracy: 0.8950\n",
            "Epoch 00086: val_accuracy did not improve from 0.88043\n",
            "6/6 [==============================] - 17s 3s/step - loss: 0.2576 - accuracy: 0.8950 - val_loss: 0.4251 - val_accuracy: 0.8750\n",
            "Epoch 87/250\n",
            "6/6 [==============================] - ETA: 0s - loss: 0.2441 - accuracy: 0.9072\n",
            "Epoch 00087: val_accuracy did not improve from 0.88043\n",
            "6/6 [==============================] - 17s 3s/step - loss: 0.2441 - accuracy: 0.9072 - val_loss: 0.4336 - val_accuracy: 0.8641\n",
            "Epoch 88/250\n",
            "6/6 [==============================] - ETA: 0s - loss: 0.2330 - accuracy: 0.9154\n",
            "Epoch 00088: val_accuracy did not improve from 0.88043\n",
            "6/6 [==============================] - 17s 3s/step - loss: 0.2330 - accuracy: 0.9154 - val_loss: 0.4470 - val_accuracy: 0.8750\n",
            "Epoch 89/250\n",
            "6/6 [==============================] - ETA: 0s - loss: 0.2488 - accuracy: 0.9059\n",
            "Epoch 00089: val_accuracy did not improve from 0.88043\n",
            "6/6 [==============================] - 17s 3s/step - loss: 0.2488 - accuracy: 0.9059 - val_loss: 0.4350 - val_accuracy: 0.8641\n",
            "Epoch 90/250\n",
            "6/6 [==============================] - ETA: 0s - loss: 0.2211 - accuracy: 0.9141\n",
            "Epoch 00090: val_accuracy improved from 0.88043 to 0.88587, saving model to /content/drive/MyDrive/Trabalho_AM_DMA/salvaModelo1/modelo2_90.h5\n",
            "6/6 [==============================] - 17s 3s/step - loss: 0.2211 - accuracy: 0.9141 - val_loss: 0.4195 - val_accuracy: 0.8859\n",
            "Epoch 91/250\n",
            "6/6 [==============================] - ETA: 0s - loss: 0.2183 - accuracy: 0.9168\n",
            "Epoch 00091: val_accuracy did not improve from 0.88587\n",
            "6/6 [==============================] - 17s 3s/step - loss: 0.2183 - accuracy: 0.9168 - val_loss: 0.4225 - val_accuracy: 0.8750\n",
            "Epoch 92/250\n",
            "6/6 [==============================] - ETA: 0s - loss: 0.2160 - accuracy: 0.9222\n",
            "Epoch 00092: val_accuracy did not improve from 0.88587\n",
            "6/6 [==============================] - 17s 3s/step - loss: 0.2160 - accuracy: 0.9222 - val_loss: 0.4305 - val_accuracy: 0.8696\n",
            "Epoch 93/250\n",
            "6/6 [==============================] - ETA: 0s - loss: 0.2172 - accuracy: 0.9168\n",
            "Epoch 00093: val_accuracy did not improve from 0.88587\n",
            "6/6 [==============================] - 17s 3s/step - loss: 0.2172 - accuracy: 0.9168 - val_loss: 0.4345 - val_accuracy: 0.8750\n",
            "Epoch 94/250\n",
            "6/6 [==============================] - ETA: 0s - loss: 0.2329 - accuracy: 0.9113\n",
            "Epoch 00094: val_accuracy did not improve from 0.88587\n",
            "6/6 [==============================] - 17s 3s/step - loss: 0.2329 - accuracy: 0.9113 - val_loss: 0.4345 - val_accuracy: 0.8750\n",
            "Epoch 95/250\n",
            "6/6 [==============================] - ETA: 0s - loss: 0.2270 - accuracy: 0.9209\n",
            "Epoch 00095: val_accuracy did not improve from 0.88587\n",
            "6/6 [==============================] - 17s 3s/step - loss: 0.2270 - accuracy: 0.9209 - val_loss: 0.4520 - val_accuracy: 0.8750\n",
            "Epoch 96/250\n",
            "6/6 [==============================] - ETA: 0s - loss: 0.2600 - accuracy: 0.9004\n",
            "Epoch 00096: val_accuracy did not improve from 0.88587\n",
            "6/6 [==============================] - 17s 3s/step - loss: 0.2600 - accuracy: 0.9004 - val_loss: 0.4329 - val_accuracy: 0.8533\n",
            "Epoch 97/250\n",
            "6/6 [==============================] - ETA: 0s - loss: 0.2722 - accuracy: 0.8990\n",
            "Epoch 00097: val_accuracy did not improve from 0.88587\n",
            "6/6 [==============================] - 17s 3s/step - loss: 0.2722 - accuracy: 0.8990 - val_loss: 0.4291 - val_accuracy: 0.8804\n",
            "Epoch 98/250\n",
            "6/6 [==============================] - ETA: 0s - loss: 0.2446 - accuracy: 0.9127\n",
            "Epoch 00098: val_accuracy did not improve from 0.88587\n",
            "6/6 [==============================] - 17s 3s/step - loss: 0.2446 - accuracy: 0.9127 - val_loss: 0.4156 - val_accuracy: 0.8859\n",
            "Epoch 99/250\n",
            "6/6 [==============================] - ETA: 0s - loss: 0.2218 - accuracy: 0.9181\n",
            "Epoch 00099: val_accuracy did not improve from 0.88587\n",
            "6/6 [==============================] - 17s 3s/step - loss: 0.2218 - accuracy: 0.9181 - val_loss: 0.4301 - val_accuracy: 0.8804\n",
            "Epoch 100/250\n",
            "6/6 [==============================] - ETA: 0s - loss: 0.2280 - accuracy: 0.9181\n",
            "Epoch 00100: val_accuracy did not improve from 0.88587\n",
            "6/6 [==============================] - 17s 3s/step - loss: 0.2280 - accuracy: 0.9181 - val_loss: 0.4215 - val_accuracy: 0.8750\n",
            "Epoch 101/250\n",
            "6/6 [==============================] - ETA: 0s - loss: 0.2238 - accuracy: 0.9195\n",
            "Epoch 00101: val_accuracy did not improve from 0.88587\n",
            "6/6 [==============================] - 17s 3s/step - loss: 0.2238 - accuracy: 0.9195 - val_loss: 0.4333 - val_accuracy: 0.8696\n",
            "Epoch 102/250\n",
            "6/6 [==============================] - ETA: 0s - loss: 0.2101 - accuracy: 0.9222\n",
            "Epoch 00102: val_accuracy did not improve from 0.88587\n",
            "6/6 [==============================] - 17s 3s/step - loss: 0.2101 - accuracy: 0.9222 - val_loss: 0.4336 - val_accuracy: 0.8750\n",
            "Epoch 103/250\n",
            "6/6 [==============================] - ETA: 0s - loss: 0.2271 - accuracy: 0.9059\n",
            "Epoch 00103: val_accuracy did not improve from 0.88587\n",
            "6/6 [==============================] - 17s 3s/step - loss: 0.2271 - accuracy: 0.9059 - val_loss: 0.4247 - val_accuracy: 0.8750\n",
            "Epoch 104/250\n",
            "6/6 [==============================] - ETA: 0s - loss: 0.2161 - accuracy: 0.9113\n",
            "Epoch 00104: val_accuracy did not improve from 0.88587\n",
            "6/6 [==============================] - 17s 3s/step - loss: 0.2161 - accuracy: 0.9113 - val_loss: 0.4404 - val_accuracy: 0.8641\n",
            "Epoch 105/250\n",
            "6/6 [==============================] - ETA: 0s - loss: 0.2185 - accuracy: 0.9209\n",
            "Epoch 00105: val_accuracy did not improve from 0.88587\n",
            "6/6 [==============================] - 17s 3s/step - loss: 0.2185 - accuracy: 0.9209 - val_loss: 0.4278 - val_accuracy: 0.8696\n",
            "Epoch 106/250\n",
            "6/6 [==============================] - ETA: 0s - loss: 0.2172 - accuracy: 0.9168\n",
            "Epoch 00106: val_accuracy did not improve from 0.88587\n",
            "6/6 [==============================] - 17s 3s/step - loss: 0.2172 - accuracy: 0.9168 - val_loss: 0.4425 - val_accuracy: 0.8804\n",
            "Epoch 107/250\n",
            "6/6 [==============================] - ETA: 0s - loss: 0.1980 - accuracy: 0.9304\n",
            "Epoch 00107: val_accuracy did not improve from 0.88587\n",
            "6/6 [==============================] - 17s 3s/step - loss: 0.1980 - accuracy: 0.9304 - val_loss: 0.4277 - val_accuracy: 0.8750\n",
            "Epoch 108/250\n",
            "6/6 [==============================] - ETA: 0s - loss: 0.2095 - accuracy: 0.9209\n",
            "Epoch 00108: val_accuracy did not improve from 0.88587\n",
            "6/6 [==============================] - 17s 3s/step - loss: 0.2095 - accuracy: 0.9209 - val_loss: 0.4641 - val_accuracy: 0.8587\n",
            "Epoch 109/250\n",
            "6/6 [==============================] - ETA: 0s - loss: 0.2123 - accuracy: 0.9195\n",
            "Epoch 00109: val_accuracy did not improve from 0.88587\n",
            "6/6 [==============================] - 17s 3s/step - loss: 0.2123 - accuracy: 0.9195 - val_loss: 0.4334 - val_accuracy: 0.8750\n",
            "Epoch 110/250\n",
            "6/6 [==============================] - ETA: 0s - loss: 0.2019 - accuracy: 0.9168\n",
            "Epoch 00110: val_accuracy did not improve from 0.88587\n",
            "6/6 [==============================] - 17s 3s/step - loss: 0.2019 - accuracy: 0.9168 - val_loss: 0.4413 - val_accuracy: 0.8641\n",
            "Epoch 111/250\n",
            "6/6 [==============================] - ETA: 0s - loss: 0.1963 - accuracy: 0.9304\n",
            "Epoch 00111: val_accuracy did not improve from 0.88587\n",
            "6/6 [==============================] - 17s 3s/step - loss: 0.1963 - accuracy: 0.9304 - val_loss: 0.4373 - val_accuracy: 0.8750\n",
            "Epoch 112/250\n",
            "6/6 [==============================] - ETA: 0s - loss: 0.1900 - accuracy: 0.9263\n",
            "Epoch 00112: val_accuracy did not improve from 0.88587\n",
            "6/6 [==============================] - 17s 3s/step - loss: 0.1900 - accuracy: 0.9263 - val_loss: 0.4261 - val_accuracy: 0.8750\n",
            "Epoch 113/250\n",
            "6/6 [==============================] - ETA: 0s - loss: 0.1920 - accuracy: 0.9209\n",
            "Epoch 00113: val_accuracy did not improve from 0.88587\n",
            "6/6 [==============================] - 17s 3s/step - loss: 0.1920 - accuracy: 0.9209 - val_loss: 0.4345 - val_accuracy: 0.8750\n",
            "Epoch 114/250\n",
            "6/6 [==============================] - ETA: 0s - loss: 0.1912 - accuracy: 0.9304\n",
            "Epoch 00114: val_accuracy did not improve from 0.88587\n",
            "6/6 [==============================] - 17s 3s/step - loss: 0.1912 - accuracy: 0.9304 - val_loss: 0.4572 - val_accuracy: 0.8587\n",
            "Epoch 115/250\n",
            "6/6 [==============================] - ETA: 0s - loss: 0.2035 - accuracy: 0.9263\n",
            "Epoch 00115: val_accuracy did not improve from 0.88587\n",
            "6/6 [==============================] - 17s 3s/step - loss: 0.2035 - accuracy: 0.9263 - val_loss: 0.4609 - val_accuracy: 0.8696\n",
            "Epoch 116/250\n",
            "6/6 [==============================] - ETA: 0s - loss: 0.2017 - accuracy: 0.9236\n",
            "Epoch 00116: val_accuracy did not improve from 0.88587\n",
            "6/6 [==============================] - 17s 3s/step - loss: 0.2017 - accuracy: 0.9236 - val_loss: 0.4447 - val_accuracy: 0.8587\n",
            "Epoch 117/250\n",
            "6/6 [==============================] - ETA: 0s - loss: 0.1771 - accuracy: 0.9359\n",
            "Epoch 00117: val_accuracy did not improve from 0.88587\n",
            "6/6 [==============================] - 17s 3s/step - loss: 0.1771 - accuracy: 0.9359 - val_loss: 0.4616 - val_accuracy: 0.8696\n",
            "Epoch 118/250\n",
            "6/6 [==============================] - ETA: 0s - loss: 0.1903 - accuracy: 0.9318\n",
            "Epoch 00118: val_accuracy did not improve from 0.88587\n",
            "6/6 [==============================] - 17s 3s/step - loss: 0.1903 - accuracy: 0.9318 - val_loss: 0.4485 - val_accuracy: 0.8750\n",
            "Epoch 119/250\n",
            "6/6 [==============================] - ETA: 0s - loss: 0.1856 - accuracy: 0.9291\n",
            "Epoch 00119: val_accuracy did not improve from 0.88587\n",
            "6/6 [==============================] - 17s 3s/step - loss: 0.1856 - accuracy: 0.9291 - val_loss: 0.4423 - val_accuracy: 0.8804\n",
            "Epoch 120/250\n",
            "6/6 [==============================] - ETA: 0s - loss: 0.1823 - accuracy: 0.9345\n",
            "Epoch 00120: val_accuracy did not improve from 0.88587\n",
            "6/6 [==============================] - 17s 3s/step - loss: 0.1823 - accuracy: 0.9345 - val_loss: 0.4424 - val_accuracy: 0.8750\n",
            "Epoch 121/250\n",
            "6/6 [==============================] - ETA: 0s - loss: 0.1747 - accuracy: 0.9427\n",
            "Epoch 00121: val_accuracy did not improve from 0.88587\n",
            "6/6 [==============================] - 17s 3s/step - loss: 0.1747 - accuracy: 0.9427 - val_loss: 0.4392 - val_accuracy: 0.8750\n",
            "Epoch 122/250\n",
            "6/6 [==============================] - ETA: 0s - loss: 0.1743 - accuracy: 0.9318\n",
            "Epoch 00122: val_accuracy did not improve from 0.88587\n",
            "6/6 [==============================] - 17s 3s/step - loss: 0.1743 - accuracy: 0.9318 - val_loss: 0.4673 - val_accuracy: 0.8750\n",
            "Epoch 123/250\n",
            "6/6 [==============================] - ETA: 0s - loss: 0.1812 - accuracy: 0.9400\n",
            "Epoch 00123: val_accuracy did not improve from 0.88587\n",
            "6/6 [==============================] - 17s 3s/step - loss: 0.1812 - accuracy: 0.9400 - val_loss: 0.4678 - val_accuracy: 0.8587\n",
            "Epoch 124/250\n",
            "6/6 [==============================] - ETA: 0s - loss: 0.1941 - accuracy: 0.9250\n",
            "Epoch 00124: val_accuracy did not improve from 0.88587\n",
            "6/6 [==============================] - 17s 3s/step - loss: 0.1941 - accuracy: 0.9250 - val_loss: 0.4409 - val_accuracy: 0.8750\n",
            "Epoch 125/250\n",
            "6/6 [==============================] - ETA: 0s - loss: 0.1929 - accuracy: 0.9291\n",
            "Epoch 00125: val_accuracy did not improve from 0.88587\n",
            "6/6 [==============================] - 17s 3s/step - loss: 0.1929 - accuracy: 0.9291 - val_loss: 0.4698 - val_accuracy: 0.8750\n",
            "Epoch 126/250\n",
            "6/6 [==============================] - ETA: 0s - loss: 0.1860 - accuracy: 0.9332\n",
            "Epoch 00126: val_accuracy did not improve from 0.88587\n",
            "6/6 [==============================] - 17s 3s/step - loss: 0.1860 - accuracy: 0.9332 - val_loss: 0.4439 - val_accuracy: 0.8750\n",
            "Epoch 127/250\n",
            "6/6 [==============================] - ETA: 0s - loss: 0.1742 - accuracy: 0.9345\n",
            "Epoch 00127: val_accuracy did not improve from 0.88587\n",
            "6/6 [==============================] - 17s 3s/step - loss: 0.1742 - accuracy: 0.9345 - val_loss: 0.4558 - val_accuracy: 0.8750\n",
            "Epoch 128/250\n",
            "6/6 [==============================] - ETA: 0s - loss: 0.1722 - accuracy: 0.9386\n",
            "Epoch 00128: val_accuracy did not improve from 0.88587\n",
            "6/6 [==============================] - 17s 3s/step - loss: 0.1722 - accuracy: 0.9386 - val_loss: 0.4637 - val_accuracy: 0.8587\n",
            "Epoch 129/250\n",
            "6/6 [==============================] - ETA: 0s - loss: 0.1637 - accuracy: 0.9400\n",
            "Epoch 00129: val_accuracy did not improve from 0.88587\n",
            "6/6 [==============================] - 17s 3s/step - loss: 0.1637 - accuracy: 0.9400 - val_loss: 0.4622 - val_accuracy: 0.8750\n",
            "Epoch 130/250\n",
            "6/6 [==============================] - ETA: 0s - loss: 0.1698 - accuracy: 0.9359\n",
            "Epoch 00130: val_accuracy did not improve from 0.88587\n",
            "6/6 [==============================] - 18s 3s/step - loss: 0.1698 - accuracy: 0.9359 - val_loss: 0.4704 - val_accuracy: 0.8750\n",
            "Epoch 131/250\n",
            "6/6 [==============================] - ETA: 0s - loss: 0.1652 - accuracy: 0.9345\n",
            "Epoch 00131: val_accuracy did not improve from 0.88587\n",
            "6/6 [==============================] - 19s 3s/step - loss: 0.1652 - accuracy: 0.9345 - val_loss: 0.4614 - val_accuracy: 0.8641\n",
            "Epoch 132/250\n",
            "6/6 [==============================] - ETA: 0s - loss: 0.1735 - accuracy: 0.9318\n",
            "Epoch 00132: val_accuracy did not improve from 0.88587\n",
            "6/6 [==============================] - 17s 3s/step - loss: 0.1735 - accuracy: 0.9318 - val_loss: 0.4706 - val_accuracy: 0.8696\n",
            "Epoch 133/250\n",
            "6/6 [==============================] - ETA: 0s - loss: 0.1764 - accuracy: 0.9291\n",
            "Epoch 00133: val_accuracy did not improve from 0.88587\n",
            "6/6 [==============================] - 17s 3s/step - loss: 0.1764 - accuracy: 0.9291 - val_loss: 0.5034 - val_accuracy: 0.8804\n",
            "Epoch 134/250\n",
            "6/6 [==============================] - ETA: 0s - loss: 0.1820 - accuracy: 0.9359\n",
            "Epoch 00134: val_accuracy did not improve from 0.88587\n",
            "6/6 [==============================] - 17s 3s/step - loss: 0.1820 - accuracy: 0.9359 - val_loss: 0.4805 - val_accuracy: 0.8533\n",
            "Epoch 135/250\n",
            "6/6 [==============================] - ETA: 0s - loss: 0.1729 - accuracy: 0.9318\n",
            "Epoch 00135: val_accuracy did not improve from 0.88587\n",
            "6/6 [==============================] - 17s 3s/step - loss: 0.1729 - accuracy: 0.9318 - val_loss: 0.4673 - val_accuracy: 0.8750\n",
            "Epoch 136/250\n",
            "6/6 [==============================] - ETA: 0s - loss: 0.1728 - accuracy: 0.9359\n",
            "Epoch 00136: val_accuracy did not improve from 0.88587\n",
            "6/6 [==============================] - 17s 3s/step - loss: 0.1728 - accuracy: 0.9359 - val_loss: 0.4784 - val_accuracy: 0.8696\n",
            "Epoch 137/250\n",
            "6/6 [==============================] - ETA: 0s - loss: 0.1596 - accuracy: 0.9413\n",
            "Epoch 00137: val_accuracy did not improve from 0.88587\n",
            "6/6 [==============================] - 17s 3s/step - loss: 0.1596 - accuracy: 0.9413 - val_loss: 0.4655 - val_accuracy: 0.8696\n",
            "Epoch 138/250\n",
            "6/6 [==============================] - ETA: 0s - loss: 0.1579 - accuracy: 0.9400\n",
            "Epoch 00138: val_accuracy did not improve from 0.88587\n",
            "6/6 [==============================] - 17s 3s/step - loss: 0.1579 - accuracy: 0.9400 - val_loss: 0.4759 - val_accuracy: 0.8696\n",
            "Epoch 139/250\n",
            "6/6 [==============================] - ETA: 0s - loss: 0.1588 - accuracy: 0.9372\n",
            "Epoch 00139: val_accuracy did not improve from 0.88587\n",
            "6/6 [==============================] - 17s 3s/step - loss: 0.1588 - accuracy: 0.9372 - val_loss: 0.5083 - val_accuracy: 0.8478\n",
            "Epoch 140/250\n",
            "6/6 [==============================] - ETA: 0s - loss: 0.1521 - accuracy: 0.9536\n",
            "Epoch 00140: val_accuracy did not improve from 0.88587\n",
            "6/6 [==============================] - 17s 3s/step - loss: 0.1521 - accuracy: 0.9536 - val_loss: 0.4988 - val_accuracy: 0.8804\n",
            "Epoch 141/250\n",
            "6/6 [==============================] - ETA: 0s - loss: 0.1743 - accuracy: 0.9332\n",
            "Epoch 00141: val_accuracy did not improve from 0.88587\n",
            "6/6 [==============================] - 17s 3s/step - loss: 0.1743 - accuracy: 0.9332 - val_loss: 0.5027 - val_accuracy: 0.8587\n",
            "Epoch 142/250\n",
            "6/6 [==============================] - ETA: 0s - loss: 0.1629 - accuracy: 0.9400\n",
            "Epoch 00142: val_accuracy did not improve from 0.88587\n",
            "6/6 [==============================] - 17s 3s/step - loss: 0.1629 - accuracy: 0.9400 - val_loss: 0.5064 - val_accuracy: 0.8804\n",
            "Epoch 143/250\n",
            "6/6 [==============================] - ETA: 0s - loss: 0.1532 - accuracy: 0.9454\n",
            "Epoch 00143: val_accuracy did not improve from 0.88587\n",
            "6/6 [==============================] - 17s 3s/step - loss: 0.1532 - accuracy: 0.9454 - val_loss: 0.5027 - val_accuracy: 0.8641\n",
            "Epoch 144/250\n",
            "6/6 [==============================] - ETA: 0s - loss: 0.1454 - accuracy: 0.9495\n",
            "Epoch 00144: val_accuracy did not improve from 0.88587\n",
            "6/6 [==============================] - 17s 3s/step - loss: 0.1454 - accuracy: 0.9495 - val_loss: 0.4985 - val_accuracy: 0.8696\n",
            "Epoch 145/250\n",
            "6/6 [==============================] - ETA: 0s - loss: 0.1456 - accuracy: 0.9413\n",
            "Epoch 00145: val_accuracy did not improve from 0.88587\n",
            "6/6 [==============================] - 17s 3s/step - loss: 0.1456 - accuracy: 0.9413 - val_loss: 0.4856 - val_accuracy: 0.8641\n",
            "Epoch 146/250\n",
            "6/6 [==============================] - ETA: 0s - loss: 0.1583 - accuracy: 0.9359\n",
            "Epoch 00146: val_accuracy did not improve from 0.88587\n",
            "6/6 [==============================] - 17s 3s/step - loss: 0.1583 - accuracy: 0.9359 - val_loss: 0.4791 - val_accuracy: 0.8641\n",
            "Epoch 147/250\n",
            "6/6 [==============================] - ETA: 0s - loss: 0.1573 - accuracy: 0.9413\n",
            "Epoch 00147: val_accuracy did not improve from 0.88587\n",
            "6/6 [==============================] - 17s 3s/step - loss: 0.1573 - accuracy: 0.9413 - val_loss: 0.5247 - val_accuracy: 0.8696\n",
            "Epoch 148/250\n",
            "6/6 [==============================] - ETA: 0s - loss: 0.1574 - accuracy: 0.9345\n",
            "Epoch 00148: val_accuracy did not improve from 0.88587\n",
            "6/6 [==============================] - 17s 3s/step - loss: 0.1574 - accuracy: 0.9345 - val_loss: 0.4899 - val_accuracy: 0.8696\n",
            "Epoch 149/250\n",
            "6/6 [==============================] - ETA: 0s - loss: 0.1653 - accuracy: 0.9386\n",
            "Epoch 00149: val_accuracy did not improve from 0.88587\n",
            "6/6 [==============================] - 17s 3s/step - loss: 0.1653 - accuracy: 0.9386 - val_loss: 0.5301 - val_accuracy: 0.8750\n",
            "Epoch 150/250\n",
            "6/6 [==============================] - ETA: 0s - loss: 0.1554 - accuracy: 0.9454\n",
            "Epoch 00150: val_accuracy did not improve from 0.88587\n",
            "6/6 [==============================] - 17s 3s/step - loss: 0.1554 - accuracy: 0.9454 - val_loss: 0.4982 - val_accuracy: 0.8587\n",
            "Epoch 151/250\n",
            "6/6 [==============================] - ETA: 0s - loss: 0.1505 - accuracy: 0.9454\n",
            "Epoch 00151: val_accuracy did not improve from 0.88587\n",
            "6/6 [==============================] - 17s 3s/step - loss: 0.1505 - accuracy: 0.9454 - val_loss: 0.5158 - val_accuracy: 0.8750\n",
            "Epoch 152/250\n",
            "6/6 [==============================] - ETA: 0s - loss: 0.1376 - accuracy: 0.9454\n",
            "Epoch 00152: val_accuracy did not improve from 0.88587\n",
            "6/6 [==============================] - 17s 3s/step - loss: 0.1376 - accuracy: 0.9454 - val_loss: 0.4993 - val_accuracy: 0.8641\n",
            "Epoch 153/250\n",
            "6/6 [==============================] - ETA: 0s - loss: 0.1429 - accuracy: 0.9454\n",
            "Epoch 00153: val_accuracy did not improve from 0.88587\n",
            "6/6 [==============================] - 17s 3s/step - loss: 0.1429 - accuracy: 0.9454 - val_loss: 0.5036 - val_accuracy: 0.8859\n",
            "Epoch 154/250\n",
            "6/6 [==============================] - ETA: 0s - loss: 0.1321 - accuracy: 0.9482\n",
            "Epoch 00154: val_accuracy did not improve from 0.88587\n",
            "6/6 [==============================] - 17s 3s/step - loss: 0.1321 - accuracy: 0.9482 - val_loss: 0.5203 - val_accuracy: 0.8696\n",
            "Epoch 155/250\n",
            "6/6 [==============================] - ETA: 0s - loss: 0.1378 - accuracy: 0.9468\n",
            "Epoch 00155: val_accuracy did not improve from 0.88587\n",
            "6/6 [==============================] - 17s 3s/step - loss: 0.1378 - accuracy: 0.9468 - val_loss: 0.5062 - val_accuracy: 0.8587\n",
            "Epoch 156/250\n",
            "6/6 [==============================] - ETA: 0s - loss: 0.1335 - accuracy: 0.9495\n",
            "Epoch 00156: val_accuracy did not improve from 0.88587\n",
            "6/6 [==============================] - 17s 3s/step - loss: 0.1335 - accuracy: 0.9495 - val_loss: 0.5185 - val_accuracy: 0.8641\n",
            "Epoch 157/250\n",
            "6/6 [==============================] - ETA: 0s - loss: 0.1241 - accuracy: 0.9468\n",
            "Epoch 00157: val_accuracy did not improve from 0.88587\n",
            "6/6 [==============================] - 17s 3s/step - loss: 0.1241 - accuracy: 0.9468 - val_loss: 0.5130 - val_accuracy: 0.8587\n",
            "Epoch 158/250\n",
            "6/6 [==============================] - ETA: 0s - loss: 0.1350 - accuracy: 0.9359\n",
            "Epoch 00158: val_accuracy did not improve from 0.88587\n",
            "6/6 [==============================] - 17s 3s/step - loss: 0.1350 - accuracy: 0.9359 - val_loss: 0.5186 - val_accuracy: 0.8750\n",
            "Epoch 159/250\n",
            "6/6 [==============================] - ETA: 0s - loss: 0.1256 - accuracy: 0.9509\n",
            "Epoch 00159: val_accuracy did not improve from 0.88587\n",
            "6/6 [==============================] - 17s 3s/step - loss: 0.1256 - accuracy: 0.9509 - val_loss: 0.5460 - val_accuracy: 0.8750\n",
            "Epoch 160/250\n",
            "6/6 [==============================] - ETA: 0s - loss: 0.1281 - accuracy: 0.9441\n",
            "Epoch 00160: val_accuracy did not improve from 0.88587\n",
            "6/6 [==============================] - 17s 3s/step - loss: 0.1281 - accuracy: 0.9441 - val_loss: 0.5039 - val_accuracy: 0.8641\n",
            "Epoch 161/250\n",
            "6/6 [==============================] - ETA: 0s - loss: 0.1397 - accuracy: 0.9441\n",
            "Epoch 00161: val_accuracy did not improve from 0.88587\n",
            "6/6 [==============================] - 17s 3s/step - loss: 0.1397 - accuracy: 0.9441 - val_loss: 0.5587 - val_accuracy: 0.8750\n",
            "Epoch 162/250\n",
            "6/6 [==============================] - ETA: 0s - loss: 0.1229 - accuracy: 0.9509\n",
            "Epoch 00162: val_accuracy did not improve from 0.88587\n",
            "6/6 [==============================] - 17s 3s/step - loss: 0.1229 - accuracy: 0.9509 - val_loss: 0.5334 - val_accuracy: 0.8804\n",
            "Epoch 163/250\n",
            "6/6 [==============================] - ETA: 0s - loss: 0.1226 - accuracy: 0.9413\n",
            "Epoch 00163: val_accuracy did not improve from 0.88587\n",
            "6/6 [==============================] - 17s 3s/step - loss: 0.1226 - accuracy: 0.9413 - val_loss: 0.5394 - val_accuracy: 0.8696\n",
            "Epoch 164/250\n",
            "6/6 [==============================] - ETA: 0s - loss: 0.1352 - accuracy: 0.9550\n",
            "Epoch 00164: val_accuracy did not improve from 0.88587\n",
            "6/6 [==============================] - 17s 3s/step - loss: 0.1352 - accuracy: 0.9550 - val_loss: 0.5233 - val_accuracy: 0.8641\n",
            "Epoch 165/250\n",
            "6/6 [==============================] - ETA: 0s - loss: 0.1264 - accuracy: 0.9441\n",
            "Epoch 00165: val_accuracy did not improve from 0.88587\n",
            "6/6 [==============================] - 17s 3s/step - loss: 0.1264 - accuracy: 0.9441 - val_loss: 0.5559 - val_accuracy: 0.8750\n",
            "Epoch 166/250\n",
            "6/6 [==============================] - ETA: 0s - loss: 0.1432 - accuracy: 0.9386\n",
            "Epoch 00166: val_accuracy did not improve from 0.88587\n",
            "6/6 [==============================] - 17s 3s/step - loss: 0.1432 - accuracy: 0.9386 - val_loss: 0.5006 - val_accuracy: 0.8804\n",
            "Epoch 167/250\n",
            "6/6 [==============================] - ETA: 0s - loss: 0.1345 - accuracy: 0.9509\n",
            "Epoch 00167: val_accuracy did not improve from 0.88587\n",
            "6/6 [==============================] - 20s 3s/step - loss: 0.1345 - accuracy: 0.9509 - val_loss: 0.5534 - val_accuracy: 0.8750\n",
            "Epoch 168/250\n",
            "6/6 [==============================] - ETA: 0s - loss: 0.1280 - accuracy: 0.9482\n",
            "Epoch 00168: val_accuracy did not improve from 0.88587\n",
            "6/6 [==============================] - 17s 3s/step - loss: 0.1280 - accuracy: 0.9482 - val_loss: 0.5237 - val_accuracy: 0.8750\n",
            "Epoch 169/250\n",
            "6/6 [==============================] - ETA: 0s - loss: 0.1200 - accuracy: 0.9509\n",
            "Epoch 00169: val_accuracy did not improve from 0.88587\n",
            "6/6 [==============================] - 17s 3s/step - loss: 0.1200 - accuracy: 0.9509 - val_loss: 0.5396 - val_accuracy: 0.8696\n",
            "Epoch 170/250\n",
            "6/6 [==============================] - ETA: 0s - loss: 0.1196 - accuracy: 0.9523\n",
            "Epoch 00170: val_accuracy did not improve from 0.88587\n",
            "6/6 [==============================] - 17s 3s/step - loss: 0.1196 - accuracy: 0.9523 - val_loss: 0.6319 - val_accuracy: 0.8478\n",
            "Epoch 171/250\n",
            "6/6 [==============================] - ETA: 0s - loss: 0.1355 - accuracy: 0.9523\n",
            "Epoch 00171: val_accuracy did not improve from 0.88587\n",
            "6/6 [==============================] - 17s 3s/step - loss: 0.1355 - accuracy: 0.9523 - val_loss: 0.5286 - val_accuracy: 0.8804\n",
            "Epoch 172/250\n",
            "6/6 [==============================] - ETA: 0s - loss: 0.1417 - accuracy: 0.9523\n",
            "Epoch 00172: val_accuracy did not improve from 0.88587\n",
            "6/6 [==============================] - 17s 3s/step - loss: 0.1417 - accuracy: 0.9523 - val_loss: 0.5241 - val_accuracy: 0.8859\n",
            "Epoch 173/250\n",
            "6/6 [==============================] - ETA: 0s - loss: 0.1203 - accuracy: 0.9468\n",
            "Epoch 00173: val_accuracy did not improve from 0.88587\n",
            "6/6 [==============================] - 17s 3s/step - loss: 0.1203 - accuracy: 0.9468 - val_loss: 0.5780 - val_accuracy: 0.8587\n",
            "Epoch 174/250\n",
            "6/6 [==============================] - ETA: 0s - loss: 0.1245 - accuracy: 0.9509\n",
            "Epoch 00174: val_accuracy did not improve from 0.88587\n",
            "6/6 [==============================] - 17s 3s/step - loss: 0.1245 - accuracy: 0.9509 - val_loss: 0.5322 - val_accuracy: 0.8750\n",
            "Epoch 175/250\n",
            "6/6 [==============================] - ETA: 0s - loss: 0.1278 - accuracy: 0.9550\n",
            "Epoch 00175: val_accuracy did not improve from 0.88587\n",
            "6/6 [==============================] - 17s 3s/step - loss: 0.1278 - accuracy: 0.9550 - val_loss: 0.5443 - val_accuracy: 0.8750\n",
            "Epoch 176/250\n",
            "6/6 [==============================] - ETA: 0s - loss: 0.1267 - accuracy: 0.9413\n",
            "Epoch 00176: val_accuracy did not improve from 0.88587\n",
            "6/6 [==============================] - 17s 3s/step - loss: 0.1267 - accuracy: 0.9413 - val_loss: 0.5469 - val_accuracy: 0.8750\n",
            "Epoch 177/250\n",
            "6/6 [==============================] - ETA: 0s - loss: 0.1202 - accuracy: 0.9550\n",
            "Epoch 00177: val_accuracy improved from 0.88587 to 0.89130, saving model to /content/drive/MyDrive/Trabalho_AM_DMA/salvaModelo1/modelo2_177.h5\n",
            "6/6 [==============================] - 17s 3s/step - loss: 0.1202 - accuracy: 0.9550 - val_loss: 0.5551 - val_accuracy: 0.8913\n",
            "Epoch 178/250\n",
            "6/6 [==============================] - ETA: 0s - loss: 0.1197 - accuracy: 0.9523\n",
            "Epoch 00178: val_accuracy did not improve from 0.89130\n",
            "6/6 [==============================] - 17s 3s/step - loss: 0.1197 - accuracy: 0.9523 - val_loss: 0.6103 - val_accuracy: 0.8370\n",
            "Epoch 179/250\n",
            "6/6 [==============================] - ETA: 0s - loss: 0.1512 - accuracy: 0.9441\n",
            "Epoch 00179: val_accuracy did not improve from 0.89130\n",
            "6/6 [==============================] - 17s 3s/step - loss: 0.1512 - accuracy: 0.9441 - val_loss: 0.6134 - val_accuracy: 0.8750\n",
            "Epoch 180/250\n",
            "6/6 [==============================] - ETA: 0s - loss: 0.1346 - accuracy: 0.9563\n",
            "Epoch 00180: val_accuracy did not improve from 0.89130\n",
            "6/6 [==============================] - 17s 3s/step - loss: 0.1346 - accuracy: 0.9563 - val_loss: 0.5537 - val_accuracy: 0.8750\n",
            "Epoch 181/250\n",
            "6/6 [==============================] - ETA: 0s - loss: 0.1478 - accuracy: 0.9413\n",
            "Epoch 00181: val_accuracy did not improve from 0.89130\n",
            "6/6 [==============================] - 17s 3s/step - loss: 0.1478 - accuracy: 0.9413 - val_loss: 0.5493 - val_accuracy: 0.8696\n",
            "Epoch 182/250\n",
            "6/6 [==============================] - ETA: 0s - loss: 0.1258 - accuracy: 0.9604\n",
            "Epoch 00182: val_accuracy did not improve from 0.89130\n",
            "6/6 [==============================] - 17s 3s/step - loss: 0.1258 - accuracy: 0.9604 - val_loss: 0.6012 - val_accuracy: 0.8750\n",
            "Epoch 183/250\n",
            "6/6 [==============================] - ETA: 0s - loss: 0.1198 - accuracy: 0.9563\n",
            "Epoch 00183: val_accuracy did not improve from 0.89130\n",
            "6/6 [==============================] - 17s 3s/step - loss: 0.1198 - accuracy: 0.9563 - val_loss: 0.5700 - val_accuracy: 0.8533\n",
            "Epoch 184/250\n",
            "6/6 [==============================] - ETA: 0s - loss: 0.1173 - accuracy: 0.9509\n",
            "Epoch 00184: val_accuracy did not improve from 0.89130\n",
            "6/6 [==============================] - 17s 3s/step - loss: 0.1173 - accuracy: 0.9509 - val_loss: 0.5750 - val_accuracy: 0.8804\n",
            "Epoch 185/250\n",
            "6/6 [==============================] - ETA: 0s - loss: 0.1121 - accuracy: 0.9495\n",
            "Epoch 00185: val_accuracy did not improve from 0.89130\n",
            "6/6 [==============================] - 17s 3s/step - loss: 0.1121 - accuracy: 0.9495 - val_loss: 0.5594 - val_accuracy: 0.8804\n",
            "Epoch 186/250\n",
            "6/6 [==============================] - ETA: 0s - loss: 0.1050 - accuracy: 0.9523\n",
            "Epoch 00186: val_accuracy did not improve from 0.89130\n",
            "6/6 [==============================] - 17s 3s/step - loss: 0.1050 - accuracy: 0.9523 - val_loss: 0.5778 - val_accuracy: 0.8804\n",
            "Epoch 187/250\n",
            "6/6 [==============================] - ETA: 0s - loss: 0.1049 - accuracy: 0.9618\n",
            "Epoch 00187: val_accuracy did not improve from 0.89130\n",
            "6/6 [==============================] - 17s 3s/step - loss: 0.1049 - accuracy: 0.9618 - val_loss: 0.5773 - val_accuracy: 0.8804\n",
            "Epoch 188/250\n",
            "6/6 [==============================] - ETA: 0s - loss: 0.1096 - accuracy: 0.9591\n",
            "Epoch 00188: val_accuracy did not improve from 0.89130\n",
            "6/6 [==============================] - 17s 3s/step - loss: 0.1096 - accuracy: 0.9591 - val_loss: 0.5978 - val_accuracy: 0.8804\n",
            "Epoch 189/250\n",
            "6/6 [==============================] - ETA: 0s - loss: 0.1081 - accuracy: 0.9577\n",
            "Epoch 00189: val_accuracy did not improve from 0.89130\n",
            "6/6 [==============================] - 17s 3s/step - loss: 0.1081 - accuracy: 0.9577 - val_loss: 0.5819 - val_accuracy: 0.8859\n",
            "Epoch 190/250\n",
            "6/6 [==============================] - ETA: 0s - loss: 0.1075 - accuracy: 0.9604\n",
            "Epoch 00190: val_accuracy did not improve from 0.89130\n",
            "6/6 [==============================] - 17s 3s/step - loss: 0.1075 - accuracy: 0.9604 - val_loss: 0.5770 - val_accuracy: 0.8804\n",
            "Epoch 191/250\n",
            "6/6 [==============================] - ETA: 0s - loss: 0.0958 - accuracy: 0.9604\n",
            "Epoch 00191: val_accuracy did not improve from 0.89130\n",
            "6/6 [==============================] - 17s 3s/step - loss: 0.0958 - accuracy: 0.9604 - val_loss: 0.5988 - val_accuracy: 0.8587\n",
            "Epoch 192/250\n",
            "6/6 [==============================] - ETA: 0s - loss: 0.0968 - accuracy: 0.9700\n",
            "Epoch 00192: val_accuracy did not improve from 0.89130\n",
            "6/6 [==============================] - 17s 3s/step - loss: 0.0968 - accuracy: 0.9700 - val_loss: 0.6238 - val_accuracy: 0.8804\n",
            "Epoch 193/250\n",
            "6/6 [==============================] - ETA: 0s - loss: 0.1113 - accuracy: 0.9550\n",
            "Epoch 00193: val_accuracy did not improve from 0.89130\n",
            "6/6 [==============================] - 17s 3s/step - loss: 0.1113 - accuracy: 0.9550 - val_loss: 0.5759 - val_accuracy: 0.8750\n",
            "Epoch 194/250\n",
            "6/6 [==============================] - ETA: 0s - loss: 0.0994 - accuracy: 0.9577\n",
            "Epoch 00194: val_accuracy did not improve from 0.89130\n",
            "6/6 [==============================] - 17s 3s/step - loss: 0.0994 - accuracy: 0.9577 - val_loss: 0.6028 - val_accuracy: 0.8804\n",
            "Epoch 195/250\n",
            "6/6 [==============================] - ETA: 0s - loss: 0.0967 - accuracy: 0.9659\n",
            "Epoch 00195: val_accuracy did not improve from 0.89130\n",
            "6/6 [==============================] - 17s 3s/step - loss: 0.0967 - accuracy: 0.9659 - val_loss: 0.5784 - val_accuracy: 0.8804\n",
            "Epoch 196/250\n",
            "6/6 [==============================] - ETA: 0s - loss: 0.0917 - accuracy: 0.9645\n",
            "Epoch 00196: val_accuracy did not improve from 0.89130\n",
            "6/6 [==============================] - 17s 3s/step - loss: 0.0917 - accuracy: 0.9645 - val_loss: 0.6109 - val_accuracy: 0.8750\n",
            "Epoch 197/250\n",
            "6/6 [==============================] - ETA: 0s - loss: 0.0831 - accuracy: 0.9673\n",
            "Epoch 00197: val_accuracy did not improve from 0.89130\n",
            "6/6 [==============================] - 17s 3s/step - loss: 0.0831 - accuracy: 0.9673 - val_loss: 0.5909 - val_accuracy: 0.8804\n",
            "Epoch 198/250\n",
            "6/6 [==============================] - ETA: 0s - loss: 0.0856 - accuracy: 0.9604\n",
            "Epoch 00198: val_accuracy did not improve from 0.89130\n",
            "6/6 [==============================] - 17s 3s/step - loss: 0.0856 - accuracy: 0.9604 - val_loss: 0.6041 - val_accuracy: 0.8804\n",
            "Epoch 199/250\n",
            "6/6 [==============================] - ETA: 0s - loss: 0.0799 - accuracy: 0.9727\n",
            "Epoch 00199: val_accuracy did not improve from 0.89130\n",
            "6/6 [==============================] - 17s 3s/step - loss: 0.0799 - accuracy: 0.9727 - val_loss: 0.6158 - val_accuracy: 0.8804\n",
            "Epoch 200/250\n",
            "6/6 [==============================] - ETA: 0s - loss: 0.0822 - accuracy: 0.9741\n",
            "Epoch 00200: val_accuracy did not improve from 0.89130\n",
            "6/6 [==============================] - 17s 3s/step - loss: 0.0822 - accuracy: 0.9741 - val_loss: 0.6526 - val_accuracy: 0.8804\n",
            "Epoch 201/250\n",
            "6/6 [==============================] - ETA: 0s - loss: 0.0999 - accuracy: 0.9645\n",
            "Epoch 00201: val_accuracy did not improve from 0.89130\n",
            "6/6 [==============================] - 17s 3s/step - loss: 0.0999 - accuracy: 0.9645 - val_loss: 0.6161 - val_accuracy: 0.8859\n",
            "Epoch 202/250\n",
            "6/6 [==============================] - ETA: 0s - loss: 0.1107 - accuracy: 0.9604\n",
            "Epoch 00202: val_accuracy did not improve from 0.89130\n",
            "6/6 [==============================] - 17s 3s/step - loss: 0.1107 - accuracy: 0.9604 - val_loss: 0.6593 - val_accuracy: 0.8750\n",
            "Epoch 203/250\n",
            "6/6 [==============================] - ETA: 0s - loss: 0.1039 - accuracy: 0.9550\n",
            "Epoch 00203: val_accuracy did not improve from 0.89130\n",
            "6/6 [==============================] - 17s 3s/step - loss: 0.1039 - accuracy: 0.9550 - val_loss: 0.6353 - val_accuracy: 0.8804\n",
            "Epoch 204/250\n",
            "6/6 [==============================] - ETA: 0s - loss: 0.1031 - accuracy: 0.9604\n",
            "Epoch 00204: val_accuracy did not improve from 0.89130\n",
            "6/6 [==============================] - 17s 3s/step - loss: 0.1031 - accuracy: 0.9604 - val_loss: 0.6633 - val_accuracy: 0.8750\n",
            "Epoch 205/250\n",
            "6/6 [==============================] - ETA: 0s - loss: 0.0914 - accuracy: 0.9659\n",
            "Epoch 00205: val_accuracy did not improve from 0.89130\n",
            "6/6 [==============================] - 17s 3s/step - loss: 0.0914 - accuracy: 0.9659 - val_loss: 0.6631 - val_accuracy: 0.8859\n",
            "Epoch 206/250\n",
            "6/6 [==============================] - ETA: 0s - loss: 0.0905 - accuracy: 0.9714\n",
            "Epoch 00206: val_accuracy did not improve from 0.89130\n",
            "6/6 [==============================] - 17s 3s/step - loss: 0.0905 - accuracy: 0.9714 - val_loss: 0.6558 - val_accuracy: 0.8804\n",
            "Epoch 207/250\n",
            "6/6 [==============================] - ETA: 0s - loss: 0.0913 - accuracy: 0.9645\n",
            "Epoch 00207: val_accuracy did not improve from 0.89130\n",
            "6/6 [==============================] - 17s 3s/step - loss: 0.0913 - accuracy: 0.9645 - val_loss: 0.6833 - val_accuracy: 0.8750\n",
            "Epoch 208/250\n",
            "6/6 [==============================] - ETA: 0s - loss: 0.0830 - accuracy: 0.9754\n",
            "Epoch 00208: val_accuracy did not improve from 0.89130\n",
            "6/6 [==============================] - 17s 3s/step - loss: 0.0830 - accuracy: 0.9754 - val_loss: 0.6398 - val_accuracy: 0.8804\n",
            "Epoch 209/250\n",
            "6/6 [==============================] - ETA: 0s - loss: 0.0977 - accuracy: 0.9604\n",
            "Epoch 00209: val_accuracy did not improve from 0.89130\n",
            "6/6 [==============================] - 17s 3s/step - loss: 0.0977 - accuracy: 0.9604 - val_loss: 0.6606 - val_accuracy: 0.8859\n",
            "Epoch 210/250\n",
            "6/6 [==============================] - ETA: 0s - loss: 0.0920 - accuracy: 0.9686\n",
            "Epoch 00210: val_accuracy did not improve from 0.89130\n",
            "6/6 [==============================] - 17s 3s/step - loss: 0.0920 - accuracy: 0.9686 - val_loss: 0.6496 - val_accuracy: 0.8859\n",
            "Epoch 211/250\n",
            "6/6 [==============================] - ETA: 0s - loss: 0.0905 - accuracy: 0.9714\n",
            "Epoch 00211: val_accuracy did not improve from 0.89130\n",
            "6/6 [==============================] - 17s 3s/step - loss: 0.0905 - accuracy: 0.9714 - val_loss: 0.6789 - val_accuracy: 0.8804\n",
            "Epoch 212/250\n",
            "6/6 [==============================] - ETA: 0s - loss: 0.0910 - accuracy: 0.9632\n",
            "Epoch 00212: val_accuracy did not improve from 0.89130\n",
            "6/6 [==============================] - 17s 3s/step - loss: 0.0910 - accuracy: 0.9632 - val_loss: 0.6507 - val_accuracy: 0.8859\n",
            "Epoch 213/250\n",
            "6/6 [==============================] - ETA: 0s - loss: 0.0770 - accuracy: 0.9700\n",
            "Epoch 00213: val_accuracy did not improve from 0.89130\n",
            "6/6 [==============================] - 17s 3s/step - loss: 0.0770 - accuracy: 0.9700 - val_loss: 0.6572 - val_accuracy: 0.8750\n",
            "Epoch 214/250\n",
            "6/6 [==============================] - ETA: 0s - loss: 0.0790 - accuracy: 0.9741\n",
            "Epoch 00214: val_accuracy did not improve from 0.89130\n",
            "6/6 [==============================] - 17s 3s/step - loss: 0.0790 - accuracy: 0.9741 - val_loss: 0.6496 - val_accuracy: 0.8859\n",
            "Epoch 215/250\n",
            "6/6 [==============================] - ETA: 0s - loss: 0.0964 - accuracy: 0.9645\n",
            "Epoch 00215: val_accuracy did not improve from 0.89130\n",
            "6/6 [==============================] - 17s 3s/step - loss: 0.0964 - accuracy: 0.9645 - val_loss: 0.7186 - val_accuracy: 0.8804\n",
            "Epoch 216/250\n",
            "6/6 [==============================] - ETA: 0s - loss: 0.0894 - accuracy: 0.9686\n",
            "Epoch 00216: val_accuracy did not improve from 0.89130\n",
            "6/6 [==============================] - 17s 3s/step - loss: 0.0894 - accuracy: 0.9686 - val_loss: 0.5984 - val_accuracy: 0.8804\n",
            "Epoch 217/250\n",
            "6/6 [==============================] - ETA: 0s - loss: 0.0993 - accuracy: 0.9604\n",
            "Epoch 00217: val_accuracy did not improve from 0.89130\n",
            "6/6 [==============================] - 17s 3s/step - loss: 0.0993 - accuracy: 0.9604 - val_loss: 0.6793 - val_accuracy: 0.8696\n",
            "Epoch 218/250\n",
            "6/6 [==============================] - ETA: 0s - loss: 0.0879 - accuracy: 0.9741\n",
            "Epoch 00218: val_accuracy did not improve from 0.89130\n",
            "6/6 [==============================] - 17s 3s/step - loss: 0.0879 - accuracy: 0.9741 - val_loss: 0.7004 - val_accuracy: 0.8804\n",
            "Epoch 219/250\n",
            "6/6 [==============================] - ETA: 0s - loss: 0.0964 - accuracy: 0.9577\n",
            "Epoch 00219: val_accuracy did not improve from 0.89130\n",
            "6/6 [==============================] - 17s 3s/step - loss: 0.0964 - accuracy: 0.9577 - val_loss: 0.6550 - val_accuracy: 0.8859\n",
            "Epoch 220/250\n",
            "6/6 [==============================] - ETA: 0s - loss: 0.0872 - accuracy: 0.9673\n",
            "Epoch 00220: val_accuracy did not improve from 0.89130\n",
            "6/6 [==============================] - 17s 3s/step - loss: 0.0872 - accuracy: 0.9673 - val_loss: 0.6691 - val_accuracy: 0.8859\n",
            "Epoch 221/250\n",
            "6/6 [==============================] - ETA: 0s - loss: 0.0755 - accuracy: 0.9714\n",
            "Epoch 00221: val_accuracy did not improve from 0.89130\n",
            "6/6 [==============================] - 17s 3s/step - loss: 0.0755 - accuracy: 0.9714 - val_loss: 0.6494 - val_accuracy: 0.8804\n",
            "Epoch 222/250\n",
            "6/6 [==============================] - ETA: 0s - loss: 0.0793 - accuracy: 0.9714\n",
            "Epoch 00222: val_accuracy did not improve from 0.89130\n",
            "6/6 [==============================] - 17s 3s/step - loss: 0.0793 - accuracy: 0.9714 - val_loss: 0.6395 - val_accuracy: 0.8859\n",
            "Epoch 223/250\n",
            "6/6 [==============================] - ETA: 0s - loss: 0.0775 - accuracy: 0.9714\n",
            "Epoch 00223: val_accuracy did not improve from 0.89130\n",
            "6/6 [==============================] - 17s 3s/step - loss: 0.0775 - accuracy: 0.9714 - val_loss: 0.6983 - val_accuracy: 0.8859\n",
            "Epoch 224/250\n",
            "6/6 [==============================] - ETA: 0s - loss: 0.0781 - accuracy: 0.9686\n",
            "Epoch 00224: val_accuracy did not improve from 0.89130\n",
            "6/6 [==============================] - 17s 3s/step - loss: 0.0781 - accuracy: 0.9686 - val_loss: 0.6343 - val_accuracy: 0.8804\n",
            "Epoch 225/250\n",
            "6/6 [==============================] - ETA: 0s - loss: 0.0729 - accuracy: 0.9768\n",
            "Epoch 00225: val_accuracy did not improve from 0.89130\n",
            "6/6 [==============================] - 17s 3s/step - loss: 0.0729 - accuracy: 0.9768 - val_loss: 0.7166 - val_accuracy: 0.8804\n",
            "Epoch 226/250\n",
            "6/6 [==============================] - ETA: 0s - loss: 0.0759 - accuracy: 0.9686\n",
            "Epoch 00226: val_accuracy did not improve from 0.89130\n",
            "6/6 [==============================] - 17s 3s/step - loss: 0.0759 - accuracy: 0.9686 - val_loss: 0.6866 - val_accuracy: 0.8641\n",
            "Epoch 227/250\n",
            "6/6 [==============================] - ETA: 0s - loss: 0.0918 - accuracy: 0.9686\n",
            "Epoch 00227: val_accuracy did not improve from 0.89130\n",
            "6/6 [==============================] - 17s 3s/step - loss: 0.0918 - accuracy: 0.9686 - val_loss: 0.7727 - val_accuracy: 0.8804\n",
            "Epoch 228/250\n",
            "6/6 [==============================] - ETA: 0s - loss: 0.1038 - accuracy: 0.9591\n",
            "Epoch 00228: val_accuracy did not improve from 0.89130\n",
            "6/6 [==============================] - 17s 3s/step - loss: 0.1038 - accuracy: 0.9591 - val_loss: 0.7373 - val_accuracy: 0.8859\n",
            "Epoch 229/250\n",
            "6/6 [==============================] - ETA: 0s - loss: 0.0955 - accuracy: 0.9632\n",
            "Epoch 00229: val_accuracy did not improve from 0.89130\n",
            "6/6 [==============================] - 17s 3s/step - loss: 0.0955 - accuracy: 0.9632 - val_loss: 0.7049 - val_accuracy: 0.8913\n",
            "Epoch 230/250\n",
            "6/6 [==============================] - ETA: 0s - loss: 0.0770 - accuracy: 0.9754\n",
            "Epoch 00230: val_accuracy did not improve from 0.89130\n",
            "6/6 [==============================] - 17s 3s/step - loss: 0.0770 - accuracy: 0.9754 - val_loss: 0.7994 - val_accuracy: 0.8750\n",
            "Epoch 231/250\n",
            "6/6 [==============================] - ETA: 0s - loss: 0.1161 - accuracy: 0.9577\n",
            "Epoch 00231: val_accuracy did not improve from 0.89130\n",
            "6/6 [==============================] - 17s 3s/step - loss: 0.1161 - accuracy: 0.9577 - val_loss: 0.7146 - val_accuracy: 0.8478\n",
            "Epoch 232/250\n",
            "6/6 [==============================] - ETA: 0s - loss: 0.1080 - accuracy: 0.9659\n",
            "Epoch 00232: val_accuracy did not improve from 0.89130\n",
            "6/6 [==============================] - 17s 3s/step - loss: 0.1080 - accuracy: 0.9659 - val_loss: 0.7468 - val_accuracy: 0.8804\n",
            "Epoch 233/250\n",
            "6/6 [==============================] - ETA: 0s - loss: 0.0847 - accuracy: 0.9754\n",
            "Epoch 00233: val_accuracy did not improve from 0.89130\n",
            "6/6 [==============================] - 17s 3s/step - loss: 0.0847 - accuracy: 0.9754 - val_loss: 0.6152 - val_accuracy: 0.8804\n",
            "Epoch 234/250\n",
            "6/6 [==============================] - ETA: 0s - loss: 0.0920 - accuracy: 0.9714\n",
            "Epoch 00234: val_accuracy did not improve from 0.89130\n",
            "6/6 [==============================] - 17s 3s/step - loss: 0.0920 - accuracy: 0.9714 - val_loss: 0.7626 - val_accuracy: 0.8750\n",
            "Epoch 235/250\n",
            "6/6 [==============================] - ETA: 0s - loss: 0.0886 - accuracy: 0.9686\n",
            "Epoch 00235: val_accuracy did not improve from 0.89130\n",
            "6/6 [==============================] - 17s 3s/step - loss: 0.0886 - accuracy: 0.9686 - val_loss: 0.6772 - val_accuracy: 0.8696\n",
            "Epoch 236/250\n",
            "6/6 [==============================] - ETA: 0s - loss: 0.0842 - accuracy: 0.9632\n",
            "Epoch 00236: val_accuracy did not improve from 0.89130\n",
            "6/6 [==============================] - 17s 3s/step - loss: 0.0842 - accuracy: 0.9632 - val_loss: 0.7264 - val_accuracy: 0.8859\n",
            "Epoch 237/250\n",
            "6/6 [==============================] - ETA: 0s - loss: 0.0850 - accuracy: 0.9645\n",
            "Epoch 00237: val_accuracy did not improve from 0.89130\n",
            "6/6 [==============================] - 17s 3s/step - loss: 0.0850 - accuracy: 0.9645 - val_loss: 0.6755 - val_accuracy: 0.8859\n",
            "Epoch 238/250\n",
            "6/6 [==============================] - ETA: 0s - loss: 0.0709 - accuracy: 0.9768\n",
            "Epoch 00238: val_accuracy did not improve from 0.89130\n",
            "6/6 [==============================] - 17s 3s/step - loss: 0.0709 - accuracy: 0.9768 - val_loss: 0.6929 - val_accuracy: 0.8859\n",
            "Epoch 239/250\n",
            "6/6 [==============================] - ETA: 0s - loss: 0.0698 - accuracy: 0.9741\n",
            "Epoch 00239: val_accuracy did not improve from 0.89130\n",
            "6/6 [==============================] - 17s 3s/step - loss: 0.0698 - accuracy: 0.9741 - val_loss: 0.6814 - val_accuracy: 0.8913\n",
            "Epoch 240/250\n",
            "6/6 [==============================] - ETA: 0s - loss: 0.0670 - accuracy: 0.9795\n",
            "Epoch 00240: val_accuracy did not improve from 0.89130\n",
            "6/6 [==============================] - 17s 3s/step - loss: 0.0670 - accuracy: 0.9795 - val_loss: 0.6987 - val_accuracy: 0.8913\n",
            "Epoch 241/250\n",
            "6/6 [==============================] - ETA: 0s - loss: 0.0642 - accuracy: 0.9836\n",
            "Epoch 00241: val_accuracy did not improve from 0.89130\n",
            "6/6 [==============================] - 17s 3s/step - loss: 0.0642 - accuracy: 0.9836 - val_loss: 0.7037 - val_accuracy: 0.8913\n",
            "Epoch 242/250\n",
            "6/6 [==============================] - ETA: 0s - loss: 0.0599 - accuracy: 0.9809\n",
            "Epoch 00242: val_accuracy did not improve from 0.89130\n",
            "6/6 [==============================] - 17s 3s/step - loss: 0.0599 - accuracy: 0.9809 - val_loss: 0.6975 - val_accuracy: 0.8913\n",
            "Epoch 243/250\n",
            "6/6 [==============================] - ETA: 0s - loss: 0.0679 - accuracy: 0.9754\n",
            "Epoch 00243: val_accuracy did not improve from 0.89130\n",
            "6/6 [==============================] - 17s 3s/step - loss: 0.0679 - accuracy: 0.9754 - val_loss: 0.7358 - val_accuracy: 0.8913\n",
            "Epoch 244/250\n",
            "6/6 [==============================] - ETA: 0s - loss: 0.0627 - accuracy: 0.9782\n",
            "Epoch 00244: val_accuracy did not improve from 0.89130\n",
            "6/6 [==============================] - 17s 3s/step - loss: 0.0627 - accuracy: 0.9782 - val_loss: 0.7157 - val_accuracy: 0.8913\n",
            "Epoch 245/250\n",
            "6/6 [==============================] - ETA: 0s - loss: 0.0646 - accuracy: 0.9795\n",
            "Epoch 00245: val_accuracy did not improve from 0.89130\n",
            "6/6 [==============================] - 17s 3s/step - loss: 0.0646 - accuracy: 0.9795 - val_loss: 0.7105 - val_accuracy: 0.8913\n",
            "Epoch 246/250\n",
            "6/6 [==============================] - ETA: 0s - loss: 0.0609 - accuracy: 0.9823\n",
            "Epoch 00246: val_accuracy did not improve from 0.89130\n",
            "6/6 [==============================] - 17s 3s/step - loss: 0.0609 - accuracy: 0.9823 - val_loss: 0.7575 - val_accuracy: 0.8913\n",
            "Epoch 247/250\n",
            "6/6 [==============================] - ETA: 0s - loss: 0.0598 - accuracy: 0.9782\n",
            "Epoch 00247: val_accuracy did not improve from 0.89130\n",
            "6/6 [==============================] - 17s 3s/step - loss: 0.0598 - accuracy: 0.9782 - val_loss: 0.7401 - val_accuracy: 0.8859\n",
            "Epoch 248/250\n",
            "6/6 [==============================] - ETA: 0s - loss: 0.0716 - accuracy: 0.9727\n",
            "Epoch 00248: val_accuracy did not improve from 0.89130\n",
            "6/6 [==============================] - 17s 3s/step - loss: 0.0716 - accuracy: 0.9727 - val_loss: 0.7307 - val_accuracy: 0.8913\n",
            "Epoch 249/250\n",
            "6/6 [==============================] - ETA: 0s - loss: 0.0613 - accuracy: 0.9795\n",
            "Epoch 00249: val_accuracy did not improve from 0.89130\n",
            "6/6 [==============================] - 17s 3s/step - loss: 0.0613 - accuracy: 0.9795 - val_loss: 0.7715 - val_accuracy: 0.8913\n",
            "Epoch 250/250\n",
            "6/6 [==============================] - ETA: 0s - loss: 0.0596 - accuracy: 0.9768\n",
            "Epoch 00250: val_accuracy did not improve from 0.89130\n",
            "6/6 [==============================] - 17s 3s/step - loss: 0.0596 - accuracy: 0.9768 - val_loss: 0.7294 - val_accuracy: 0.8913\n",
            "Tempo de treinamento:  1:11:22.907738\n"
          ]
        }
      ]
    },
    {
      "cell_type": "markdown",
      "metadata": {
        "id": "MS-wD-T_JDlO"
      },
      "source": [
        "#Teste#\n"
      ]
    },
    {
      "cell_type": "code",
      "metadata": {
        "execution": {
          "iopub.status.busy": "2021-11-23T00:09:32.697764Z",
          "iopub.execute_input": "2021-11-23T00:09:32.698396Z",
          "iopub.status.idle": "2021-11-23T00:09:33.003003Z",
          "shell.execute_reply.started": "2021-11-23T00:09:32.698324Z",
          "shell.execute_reply": "2021-11-23T00:09:33.000634Z"
        },
        "trusted": true,
        "colab": {
          "base_uri": "https://localhost:8080/"
        },
        "id": "9XmE3011JDlP",
        "outputId": "33f89ea7-5964-4931-be86-f17f5d2dd719"
      },
      "source": [
        "score = modelo.evaluate(X_treino, Y_treino, verbose=0)\n",
        "print(\"Acurácia Treino: \", score[1])\n",
        "\n",
        "score = modelo.evaluate(X_teste, Y_teste, verbose=0)\n",
        "print(\"Acurácia Teste: \", score[1])"
      ],
      "execution_count": 36,
      "outputs": [
        {
          "output_type": "stream",
          "name": "stdout",
          "text": [
            "Acurácia Treino:  0.9508867859840393\n",
            "Acurácia Teste:  0.8913043737411499\n"
          ]
        }
      ]
    },
    {
      "cell_type": "code",
      "metadata": {
        "execution": {
          "iopub.status.busy": "2021-11-23T00:09:33.004777Z",
          "iopub.execute_input": "2021-11-23T00:09:33.005134Z",
          "iopub.status.idle": "2021-11-23T00:09:33.143075Z",
          "shell.execute_reply.started": "2021-11-23T00:09:33.005074Z",
          "shell.execute_reply": "2021-11-23T00:09:33.142136Z"
        },
        "trusted": true,
        "id": "6k6VBqByJDlQ"
      },
      "source": [
        "pred = modelo.predict(X_teste) \n",
        "classpred = np.argmax(pred, axis=1) \n",
        "Y_teste_classe = np.argmax(Y_teste, axis=1) \n",
        "n_classes=6 "
      ],
      "execution_count": 37,
      "outputs": []
    },
    {
      "cell_type": "code",
      "metadata": {
        "execution": {
          "iopub.status.busy": "2021-11-23T00:09:33.145084Z",
          "iopub.execute_input": "2021-11-23T00:09:33.145507Z",
          "iopub.status.idle": "2021-11-23T00:09:33.162458Z",
          "shell.execute_reply.started": "2021-11-23T00:09:33.145376Z",
          "shell.execute_reply": "2021-11-23T00:09:33.161469Z"
        },
        "trusted": true,
        "id": "TT6d9dukJDlR"
      },
      "source": [
        "fpr = dict()\n",
        "tpr = dict()\n",
        "roc_auc = dict()\n",
        "for i in range(n_classes):\n",
        "    fpr[i], tpr[i], _ = roc_curve(Y_teste[:, i], pred[:, i])\n",
        "    roc_auc[i] = auc(fpr[i], tpr[i])"
      ],
      "execution_count": 38,
      "outputs": []
    },
    {
      "cell_type": "code",
      "metadata": {
        "execution": {
          "iopub.status.busy": "2021-11-23T00:09:33.165507Z",
          "iopub.execute_input": "2021-11-23T00:09:33.166271Z",
          "iopub.status.idle": "2021-11-23T00:09:33.172719Z",
          "shell.execute_reply.started": "2021-11-23T00:09:33.166196Z",
          "shell.execute_reply": "2021-11-23T00:09:33.171217Z"
        },
        "trusted": true,
        "id": "udD37gxkJDlR"
      },
      "source": [
        "nome_doenca = ['Bronchiectasis', 'Bronchiolitis', 'COPD', 'Healthy', 'Pneumonia', 'URTI']"
      ],
      "execution_count": 39,
      "outputs": []
    },
    {
      "cell_type": "code",
      "metadata": {
        "execution": {
          "iopub.status.busy": "2021-11-23T00:09:33.174782Z",
          "iopub.execute_input": "2021-11-23T00:09:33.176606Z",
          "iopub.status.idle": "2021-11-23T00:09:33.629967Z",
          "shell.execute_reply.started": "2021-11-23T00:09:33.175392Z",
          "shell.execute_reply": "2021-11-23T00:09:33.628713Z"
        },
        "trusted": true,
        "colab": {
          "base_uri": "https://localhost:8080/",
          "height": 621
        },
        "id": "a5cwGmEiJDlS",
        "outputId": "d998f462-0712-4022-af4b-b32520a9b53f"
      },
      "source": [
        "fig, ax = plt.subplots(figsize=(16, 10))\n",
        "ax.plot([0, 1], [0, 1], 'k--')\n",
        "ax.set_xlim([0.0, 1.0])\n",
        "ax.set_ylim([0.0, 1.05])\n",
        "ax.set_xlabel('Taxa de falso positivo')\n",
        "ax.set_ylabel('Taxa de verdadeiro positivo')\n",
        "ax.set_title('Curva ROC para cada doença')\n",
        "for i in range(n_classes):\n",
        "    ax.plot(fpr[i], tpr[i], linewidth=3, label='ROC (area = %0.2f) para %s' % (roc_auc[i], nome_doenca[i]))\n",
        "ax.legend(loc=\"best\", fontsize='x-large')\n",
        "ax.grid(alpha=.4)\n",
        "sns.despine()\n",
        "plt.show()"
      ],
      "execution_count": 40,
      "outputs": [
        {
          "output_type": "display_data",
          "data": {
            "image/png": "[encoded data removed]",
            "text/plain": [
              "<Figure size 1152x720 with 1 Axes>"
            ]
          },
          "metadata": {
            "needs_background": "light"
          }
        }
      ]
    },
    {
      "cell_type": "code",
      "metadata": {
        "execution": {
          "iopub.status.busy": "2021-11-23T00:11:39.821027Z",
          "iopub.execute_input": "2021-11-23T00:11:39.821366Z",
          "iopub.status.idle": "2021-11-23T00:11:40.626293Z",
          "shell.execute_reply.started": "2021-11-23T00:11:39.821308Z",
          "shell.execute_reply": "2021-11-23T00:11:40.625022Z"
        },
        "trusted": true,
        "colab": {
          "base_uri": "https://localhost:8080/"
        },
        "id": "o841tL4VJDlT",
        "outputId": "d6252b98-8bdc-46e3-f88b-628e9b078a61"
      },
      "source": [
        "matrix_index = [\"Bronchiectasis\", \"Bronchiolitis\",\"COPD\",  \"Pneumoina\" ,\"Healthy\", \"URTI\"]\n",
        "\n",
        "pred = modelo.predict(X_teste)\n",
        "classpred = np.argmax(pred, axis=1) \n",
        "Y_teste_classe = np.argmax(Y_teste, axis=1)\n",
        "\n",
        "cm = confusion_matrix(Y_teste_classe, classpred)\n",
        "print(classification_report(Y_teste_classe, classpred, target_names=matrix_index))\n"
      ],
      "execution_count": 41,
      "outputs": [
        {
          "output_type": "stream",
          "name": "stdout",
          "text": [
            "                precision    recall  f1-score   support\n",
            "\n",
            "Bronchiectasis       1.00      0.33      0.50         3\n",
            " Bronchiolitis       0.33      0.33      0.33         3\n",
            "          COPD       0.93      0.99      0.96       159\n",
            "     Pneumoina       0.00      0.00      0.00         7\n",
            "       Healthy       0.75      0.43      0.55         7\n",
            "          URTI       0.17      0.20      0.18         5\n",
            "\n",
            "      accuracy                           0.89       184\n",
            "     macro avg       0.53      0.38      0.42       184\n",
            "  weighted avg       0.86      0.89      0.87       184\n",
            "\n"
          ]
        }
      ]
    },
    {
      "cell_type": "code",
      "metadata": {
        "colab": {
          "base_uri": "https://localhost:8080/",
          "height": 460
        },
        "id": "3cK_HYQl_lOr",
        "outputId": "677e6cd9-13e8-4447-d621-9407d5ac173e"
      },
      "source": [
        "cm_sum = np.sum(cm, axis=1, keepdims=True)\n",
        "cm_perc = cm / cm_sum.astype(float) * 100\n",
        "annot = np.empty_like(cm).astype(str)\n",
        "nrows, ncols = cm.shape\n",
        "for i in range(nrows):\n",
        "    for j in range(ncols):\n",
        "        c = cm[i, j]\n",
        "        p = cm_perc[i, j]\n",
        "        if i == j:\n",
        "            s = cm_sum[i]\n",
        "            annot[i, j] = '%.1f%%\\n%d/%d' % (p, c, s)\n",
        "        elif c == 0:\n",
        "            annot[i, j] = ''\n",
        "        else:\n",
        "            annot[i, j] = '%.1f%%\\n%d' % (p, c)\n",
        "\n",
        "\n",
        "df_cm = pd.DataFrame(cm, index = matrix_index, columns = matrix_index)\n",
        "df_cm.index.name = 'Atual'\n",
        "df_cm.columns.name = 'Predito'\n",
        "fig, ax = plt.subplots(figsize=(10,7))\n",
        "sns.heatmap(df_cm, annot=annot, fmt='')"
      ],
      "execution_count": 42,
      "outputs": [
        {
          "output_type": "execute_result",
          "data": {
            "text/plain": [
              "<matplotlib.axes._subplots.AxesSubplot at 0x7ff634a8d510>"
            ]
          },
          "metadata": {},
          "execution_count": 42
        },
        {
          "output_type": "display_data",
          "data": {
            "image/png": "[encoded data removed]",
            "text/plain": [
              "<Figure size 720x504 with 2 Axes>"
            ]
          },
          "metadata": {
            "needs_background": "light"
          }
        }
      ]
    }
  ]
}