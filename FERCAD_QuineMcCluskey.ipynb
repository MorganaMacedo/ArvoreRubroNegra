{
  "nbformat": 4,
  "nbformat_minor": 0,
  "metadata": {
    "colab": {
      "name": "FERCAD-Trab1.ipynb",
      "provenance": [],
      "collapsed_sections": [],
      "include_colab_link": true
    },
    "kernelspec": {
      "display_name": "Python 3",
      "name": "python3"
    },
    "language_info": {
      "name": "python"
    }
  },
  "cells": [
    {
      "cell_type": "markdown",
      "metadata": {
        "id": "view-in-github",
        "colab_type": "text"
      },
      "source": [
        "<a href=\"https://colab.research.google.com/github/MorganaMacedo/ArvoreRubroNegra/blob/master/FERCAD_QuineMcCluskey.ipynb\" target=\"_parent\"><img src=\"https://colab.research.google.com/assets/colab-badge.svg\" alt=\"Open In Colab\"/></a>"
      ]
    },
    {
      "cell_type": "code",
      "metadata": {
        "id": "x9-I2d1GU46-"
      },
      "source": [
        "# Esta função foi criada para encontrar os mintermos essenciais.\n",
        "def primos_implicantes_essenciais(min): \n",
        "    v = [] # Em um vetor contendo todos os mintermos \n",
        "    for i in min:\n",
        "        if len(min[i]) == 1: #se analisa quais estão com saída 1 \n",
        "            v.append(min[i][0]) if min[i][0] not in v else None # se sim cria uma matriz de essenciais.\n",
        "    return v"
      ],
      "execution_count": null,
      "outputs": []
    },
    {
      "cell_type": "code",
      "metadata": {
        "id": "GV4XxAL9UtPm"
      },
      "source": [
        "# Essa é a principal função responsável pela terceira etapa do algoritmo de Quine McCluskey\n",
        "# Ela combina os mintermos, da seguinte forma:\n",
        "# Começando pelo primeiro elemento do primeiro grupo da tabela\n",
        "# Compara com todos os mintermos seguintes. \n",
        "# Sempre que ocorre essa comparação é menos uma variável no vetor de mintermos\n",
        "# portanto, marcamos com - e inserimos em outra célula.\n",
        "# Quando não houver mais combinação coloca ele na variável temp pois ele já representa um primo implicante. \n",
        "# E assim fica repentindo até atingir o tamanho do mintermo, e por exaustão todos os termos, em todos os grupos forem comparados.    \n",
        "\n",
        "def encontra_Mintermos(min): \n",
        "    celula = min.count('-')\n",
        "    if celula == 0:\n",
        "        return [str(int(min,2))]\n",
        "    x = [bin(i)[2:].zfill(celula) for i in range(pow(2,celula))]\n",
        "    temp = []\n",
        "    for i in range(pow(2,celula)):\n",
        "        temp2,indice = min[:],-1\n",
        "        for j in x[0]:\n",
        "            if indice != -1:\n",
        "                indice = indice + temp2[indice+1:].find('-') + 1\n",
        "            else:\n",
        "                indice = temp2[indice+1:].find('-')\n",
        "            temp2 = temp2[:indice] + j + temp2[indice+1:]\n",
        "        temp.append(str(int(temp2,2)))\n",
        "        x.pop(0)\n",
        "    return temp"
      ],
      "execution_count": null,
      "outputs": []
    },
    {
      "cell_type": "code",
      "metadata": {
        "id": "PE-yiqsUU722"
      },
      "source": [
        "# Encontrada para encontrar as variaveis adjacentes.\n",
        "# Ou seja, se temos como implicantes 0-01, a saída para a função é A'C'D\n",
        "# Esta função traduz essa codificação binária para char, onde,  \n",
        "def mintermos_adjacentes(min): \n",
        "    lista = []\n",
        "    for i in range(len(min)):\n",
        "        if min[i] == '0':\n",
        "            lista.append(chr(i+65)+\"'\") # quando é 0 é negado aí inseri uma aspa simples pós a variável.\n",
        "        elif min[i] == '1':\n",
        "            lista.append(chr(i+65)) # se for um imprime sem negar (imprime normal a variável).\n",
        "    return lista # o índice i acima fica analisando a posição no vetor e deslocando a lista de mintermos\n",
        "    # analisa se é 0 ou 1 e convert com o \"chr(i+65)\" para char.\n",
        "    # Como funciona o \"chr(i+65)\": Se i=25 imprime todo alfabeto, mas se i for igual ao tamanho do mintermo imprime as posições, \n",
        "    # Se for igual a 4 imprime ABCD. "
      ],
      "execution_count": null,
      "outputs": []
    },
    {
      "cell_type": "code",
      "metadata": {
        "id": "4erDIixYSHXU"
      },
      "source": [
        "# Esta função multiplica dois mintermos \n",
        "def Multiplica_2mintermos(x,y): \n",
        "    v = []\n",
        "    for i in x:\n",
        "        if i+\"'\" in y or (len(i)==2 and i[0] in y):\n",
        "            return []\n",
        "        else:\n",
        "            v.append(i)\n",
        "    for i in y:\n",
        "        if i not in v:\n",
        "            v.append(i)\n",
        "    return v"
      ],
      "execution_count": null,
      "outputs": []
    },
    {
      "cell_type": "code",
      "metadata": {
        "id": "I7WztcmWUzae"
      },
      "source": [
        "# Esta função multiplica duas expressões\n",
        "# Usada na minimização das funções. \n",
        "def multiplica_expressoes(min1, min2):\n",
        "    v = [] # A partir de um vetor de variáveis contendo as strings dos primos implicantes,\n",
        "    # este for analisa o mínimo mintermo, em um vetor de mintermos. \n",
        "    for i in min1:\n",
        "        for j in min2:\n",
        "            tmp = Multiplica_2mintermos(i,j)\n",
        "            v.append(tmp) if len(tmp) != 0 else None\n",
        "    return v"
      ],
      "execution_count": null,
      "outputs": []
    },
    {
      "cell_type": "code",
      "metadata": {
        "id": "56Wx1mL7U14o"
      },
      "source": [
        "# A função de remover os don't cares, remove a partir de uma lista de don't cares e\n",
        "# retorna uma lista sem os don't cares.  \n",
        "# Imprencindível devido a disponibilização da inserção de saídas na codificação don't care.\n",
        "def remove_dont_care(lista, lista_dc): \n",
        "    v = []\n",
        "    for i in lista:\n",
        "        if int(i) not in lista_dc:\n",
        "            v.append(i)\n",
        "    return v"
      ],
      "execution_count": null,
      "outputs": []
    },
    {
      "cell_type": "code",
      "metadata": {
        "id": "U4Z6DnO8U-kQ"
      },
      "source": [
        "# Aqui ajuda a remover elementos na lista de mintermos repetidos. \n",
        "def ajusta_coluna(min): \n",
        "    itens = []\n",
        "    for i in min:\n",
        "        itens.extend(min[i])\n",
        "    return itens"
      ],
      "execution_count": null,
      "outputs": []
    },
    {
      "cell_type": "code",
      "metadata": {
        "id": "udJAavGVVBWO"
      },
      "source": [
        "def compara_Mintermos(min1, min2): # Essa função compara os mintermos se eles diferem de 1 bit\n",
        "    count = 0\n",
        "    for i in range(len(min1)):\n",
        "        if min1[i] != min2[i]: # Aqui analisa se são diferentes \n",
        "            indice = i \n",
        "            count += 1 # Se sim, conta quantos bits são diferentes \n",
        "            if count > 1: # Se for maior que 1 não retorna nada, \n",
        "                return (False, None)\n",
        "    return (True, indice) # se for igual a 1 é passível de ser agrupado os dois mintermos."
      ],
      "execution_count": null,
      "outputs": []
    },
    {
      "cell_type": "code",
      "metadata": {
        "id": "r_CLNqYWVDRw"
      },
      "source": [
        "def remove_Mintermos(graf, min): # essa função analisa os mintermos, na tabela de mintermos.\n",
        "    for i in min:\n",
        "        for j in encontra_Mintermos(i): # Se o mintermo que vai preencher a tabela, ainda não está na tabela, ok\n",
        "            try:\n",
        "                del graf[j] # mas se o mintermo já está na tabela, esse que é comprado é removido, pois sua posição já está preenchida.\n",
        "            except KeyError:\n",
        "                pass"
      ],
      "execution_count": null,
      "outputs": []
    },
    {
      "cell_type": "code",
      "metadata": {
        "colab": {
          "base_uri": "https://localhost:8080/"
        },
        "id": "hIG5byQoVFcm",
        "outputId": "5f0703cf-0967-4d34-e7ab-7e8efcc13e5e"
      },
      "source": [
        "# Aqui inserimos o somatório dos mintermos separados por espaço.\n",
        "# Por exemplo, 1 2 4 5 6 7 8 9 10\n",
        "caixa_min = [int(i) for i in input(\"Insira o somatório dos mintermos:\").strip().split()]\n",
        "# Insere os don't care, também separados por espaço. Caso não tenha don't care é só precionar enter.\n",
        "caixa_dc = [int(i) for i in input(\"Insira os mintermos que são don't cares: \").strip().split()]\n",
        "caixa_min.sort()\n",
        "mintermos = caixa_min + caixa_dc\n",
        "mintermos.sort()\n",
        "tamanho_min = len(bin(mintermos[-1]))-2\n",
        "print(\"Tamanho dos mintermos=\", tamanho_min)"
      ],
      "execution_count": null,
      "outputs": [
        {
          "output_type": "stream",
          "name": "stdout",
          "text": [
            "Insira o somatório dos mintermos:2 6 8 9 10 11 14 15\n",
            "Insira os mintermos que são don't cares: \n",
            "Tamanho dos mintermos= 4\n"
          ]
        }
      ]
    },
    {
      "cell_type": "code",
      "metadata": {
        "id": "7b5bX78BGYJg",
        "colab": {
          "base_uri": "https://localhost:8080/"
        },
        "outputId": "6648d3fd-6e5e-4798-be9a-171339f21290"
      },
      "source": [
        "aux, todosprimos = {},set()\n",
        "# começo da agrupação pela primeira etapa do algoritmo de Quine McCluskey.\n",
        "for min1 in mintermos:\n",
        "    try:\n",
        "        aux[bin(min1).count('1')].append(bin(min1)[2:].zfill(tamanho_min))\n",
        "    except KeyError:\n",
        "        aux[bin(min1).count('1')] = [bin(min1)[2:].zfill(tamanho_min)]\n",
        "\n",
        "# Aqui imprimimos a primeira etapa de Quine McCluskey\n",
        "print(\"\\n\\n\\n\\Primo\\tMintermos\\tMintermos binarios\\n%s\"%('='*50))\n",
        "for i in sorted(aux.keys()):\n",
        "    print(\"%5d:\"%i)  # imprime o grupo de mintermos.\n",
        "    for j in aux[i]:\n",
        "        print(\"\\t\\t%-20d%s\"%(int(j,2),j)) # imprime os mintermos na representação binária. \n",
        "    print('-'*50)\n",
        "\n",
        "# Nesse while começa o processo de criar e encontrar os primos implicantes\n",
        "while True:\n",
        "    tmp = aux.copy()\n",
        "    aux,m,marca,clau_parada = {},0,set(),True\n",
        "    l = sorted(list(tmp.keys()))\n",
        "    for i in range(len(l)-1):\n",
        "        for j in tmp[l[i]]: # itera através dos grupos de mintermos atuais\n",
        "            for k in tmp[l[i+1]]: # itera do grupo seguinte de mintermos \n",
        "                v = compara_Mintermos(j,k)  # Compramos os mintermos \n",
        "                if v[0]: # analisamos se diferem em 1 bit \n",
        "                    try: # Aqui a variável auxiliar, aux, imprime os mintermos, onde os iguais em 1 bit já recebem - e depois inserimos em grupo correspondente\n",
        "                        aux[m].append(j[:v[1]]+'-'+j[v[1]+1:]) if j[:v[1]]+'-'+j[v[1]+1:] not in aux[m] else None \n",
        "                    except KeyError: # se não existe o grupo, aqui se cria o grupo, recebe - e cria um novo grupo \n",
        "                        aux[m] = [j[:v[1]]+'-'+j[v[1]+1:]] \n",
        "                    clau_parada = False\n",
        "                    marca.add(j)  \n",
        "                    marca.add(k)  \n",
        "        m += 1\n",
        "    desmarca = set(ajusta_coluna(tmp)).difference(marca) # desmarcamos os elementos na tabela \n",
        "    todosprimos = todosprimos.union(desmarca)  # colocamos os primos implicantes na tabela de primos implicantes\n",
        "    print(\"Desmarca os primos implicantes na tabela:\",None if len(desmarca)==0 else ', '.join(desmarca))  # imprimimos os primos implicantes na tabela \n",
        "    if clau_parada: # se os primos implicantes não podem ser combinados \n",
        "        print(\"\\n\\nTodos os primos implicantes: \",None if len(todosprimos)==0 else ', '.join(todosprimos)) # se imprime todos os primos implicantes \n",
        "        break\n",
        "    print(\"\\n\\n\\n\\Primo\\tMintermos\\tMintermos binarios\\n%s\"%('='*50)) # imprimimos todos os grupos criados pela agrupação dos primos implicantes. \n",
        "    for i in sorted(aux.keys()):\n",
        "        print(\"%5d:\"%i) # imprimimos o índice do grupo \n",
        "        for j in aux[i]:\n",
        "            print(\"\\t\\t%-24s%s\"%(','.join(encontra_Mintermos(j)),j)) # aqui imprime os mintermos em representação binária.\n",
        "        print('-'*50)\n"
      ],
      "execution_count": null,
      "outputs": [
        {
          "output_type": "stream",
          "name": "stdout",
          "text": [
            "\n",
            "\n",
            "\n",
            "\\Primo\tMintermos\tMintermos binarios\n",
            "==================================================\n",
            "    1:\n",
            "\t\t2                   0010\n",
            "\t\t8                   1000\n",
            "--------------------------------------------------\n",
            "    2:\n",
            "\t\t6                   0110\n",
            "\t\t9                   1001\n",
            "\t\t10                  1010\n",
            "--------------------------------------------------\n",
            "    3:\n",
            "\t\t11                  1011\n",
            "\t\t14                  1110\n",
            "--------------------------------------------------\n",
            "    4:\n",
            "\t\t15                  1111\n",
            "--------------------------------------------------\n",
            "Desmarca os primos implicantes na tabela: None\n",
            "\n",
            "\n",
            "\n",
            "\\Primo\tMintermos\tMintermos binarios\n",
            "==================================================\n",
            "    0:\n",
            "\t\t2,6                     0-10\n",
            "\t\t2,10                    -010\n",
            "\t\t8,9                     100-\n",
            "\t\t8,10                    10-0\n",
            "--------------------------------------------------\n",
            "    1:\n",
            "\t\t6,14                    -110\n",
            "\t\t9,11                    10-1\n",
            "\t\t10,11                   101-\n",
            "\t\t10,14                   1-10\n",
            "--------------------------------------------------\n",
            "    2:\n",
            "\t\t11,15                   1-11\n",
            "\t\t14,15                   111-\n",
            "--------------------------------------------------\n",
            "Desmarca os primos implicantes na tabela: None\n",
            "\n",
            "\n",
            "\n",
            "\\Primo\tMintermos\tMintermos binarios\n",
            "==================================================\n",
            "    0:\n",
            "\t\t2,6,10,14               --10\n",
            "\t\t8,9,10,11               10--\n",
            "--------------------------------------------------\n",
            "    1:\n",
            "\t\t10,11,14,15             1-1-\n",
            "--------------------------------------------------\n",
            "Desmarca os primos implicantes na tabela: --10, 1-1-, 10--\n",
            "\n",
            "\n",
            "Todos os primos implicantes:  --10, 1-1-, 10--\n"
          ]
        }
      ]
    },
    {
      "cell_type": "code",
      "metadata": {
        "id": "odPmOwwPNDK1",
        "colab": {
          "base_uri": "https://localhost:8080/"
        },
        "outputId": "ef14a603-8020-4279-e8a4-142dee480345"
      },
      "source": [
        "a1 = len(str(caixa_min[-1]))  # aqui analiso o maior mintermo\n",
        "graf = {}\n",
        "print('\\n\\n\\nTabela primos implicantes:\\n\\n      Mintermos  %s\\n%s'%(' '.join((' '*(tamanho_min-len(str(i))))+str(i) for i in caixa_min),'='*(len(caixa_min)*(tamanho_min+1)+16)))\n",
        "\n",
        "for i in todosprimos:\n",
        "    min_junta,y = encontra_Mintermos(i),0\n",
        "    print(\"%-16s|\"%','.join(min_junta),end='')\n",
        "    for j in remove_dont_care(min_junta, caixa_dc):\n",
        "        x = caixa_min.index(int(j))*(tamanho_min+1) # Aqui analisa a posição de marcar com X na tabela de primos implicantes.\n",
        "        print(' '*abs(x-y)+' '*(tamanho_min-1)+'X',end='')\n",
        "        y = x+tamanho_min\n",
        "        try:\n",
        "            graf[j].append(i) if i not in graf[j] else None # junção do mintermo para imprimir na tabela \n",
        "        except KeyError:\n",
        "            graf[j] = [i]\n",
        "    print('\\n'+'-'*(len(caixa_min)*(tamanho_min+1)+16))\n",
        "\n",
        "#Essencial\n",
        "\n",
        "essen = primos_implicantes_essenciais(graf)  # encontra os primos implicantes essenciais \n",
        "print(\"\\nPrimo implicante essencial: \"+', '.join(str(i) for i in essen))\n",
        "remove_Mintermos(graf, essen)# remove os primos implicantes essenciais da impressão \n",
        "\n",
        "if(len(graf) == 0):# analisa se os mintermos ainda permancem \n",
        "  funcao = [mintermos_adjacentes(i) for i in essen] # resultado com os essenciais na tabela \n",
        "else: \n",
        "  primo = [[mintermos_adjacentes(j) for j in graf[i]] for i in graf]\n",
        "  while len(primo)>1: # Aqui começamos a criar as multiplicações(AND) e as somas (OR) das funções. \n",
        "        primo[1] = multiplica_expressoes(primo[0],primo[1])\n",
        "        primo.pop(0)\n",
        "  funcao = [min(primo[0], key=len)] # suprime a função final\n",
        "  funcao.extend(mintermos_adjacentes(i) for i in essen)# agregamos os primos implicantes essenciais na função final.\n",
        "print('\\n \\t Função: \\n\\n F = '+' + '.join(''.join(i) for i in funcao))\n",
        "\n"
      ],
      "execution_count": null,
      "outputs": [
        {
          "output_type": "stream",
          "name": "stdout",
          "text": [
            "\n",
            "\n",
            "\n",
            "Tabela primos implicantes:\n",
            "\n",
            "      Mintermos     2    6    8    9   10   11   14   15\n",
            "========================================================\n",
            "2,6,10,14       |   X    X              X         X\n",
            "--------------------------------------------------------\n",
            "10,11,14,15     |                       X    X    X    X\n",
            "--------------------------------------------------------\n",
            "8,9,10,11       |             X    X    X    X\n",
            "--------------------------------------------------------\n",
            "\n",
            "Primo implicante essencial: --10, 1-1-, 10--\n",
            "\n",
            " \t Função: \n",
            "\n",
            " F = CD' + AC + AB'\n"
          ]
        }
      ]
    },
    {
      "cell_type": "markdown",
      "metadata": {
        "id": "CWLSJVBBb8Q7"
      },
      "source": [
        "# Código duplicado (André)"
      ]
    },
    {
      "cell_type": "code",
      "metadata": {
        "id": "TsqRs_aaaJao",
        "colab": {
          "base_uri": "https://localhost:8080/",
          "height": 643
        },
        "outputId": "6052ed7c-2066-4e40-f70f-98657f0b643b"
      },
      "source": [
        "import IPython\n",
        "import pandas as pd\n",
        "import numpy as np\n",
        "\n",
        "\n",
        "def set_css_in_cell_output():\n",
        "  display(IPython.display.HTML('''<style>\n",
        "  table.dataframe td, table.dataframe th{\n",
        "    border:1px solid #dadada;\n",
        "    font-size: 30px;\n",
        "  }\n",
        "  table.dataframe th{\n",
        "    font-family: 'Roboto','Noto',sans-serif;\n",
        "    background: #eeeeee;\n",
        "    font-weight: bold;\n",
        "   \n",
        "  }\n",
        "  table.dataframe td{\n",
        "    background: #ffffff;\n",
        "  }\n",
        "  table.dataframe tbody tr:hover th{\n",
        "    color: #ffffff;\n",
        "    background-color:#8B0000;\n",
        "  }\n",
        "  table.dataframe tr:hover td:hover{\n",
        "    color:#ffffff;\n",
        "    background-color:#FF0000;\n",
        "  }\n",
        "  </style>'''))\n",
        "\n",
        "get_ipython().events.register('pre_run_cell', set_css_in_cell_output)\n",
        "\n",
        "def valor_X_colorir(v):\n",
        "\n",
        "    highlight = 'background-color: darkorange;'\n",
        "    default = ''\n",
        "\n",
        "    if v == 'X':\n",
        "      return highlight\n",
        "    return default\n",
        "\n",
        "\n",
        "#gera titulo, a linha de heading e linha de =====\n",
        "print('\\n\\n\\nTabela primos implicantes:\\n\\n      Mintermos  %s\\n%s'%(' '.join((' '*(tamanho_min-len(str(i))))+str(i) for i in caixa_min),'='*(len(caixa_min)*(tamanho_min+1)+16)))\n",
        "\n",
        "contaPrimos = 0\n",
        "for i in todosprimos:\n",
        "    min_junta,y = encontra_Mintermos(i),0\n",
        "    #gera a primeira coluna\n",
        "    print(\"%-16s|\"%','.join(min_junta),end='')\n",
        "   \n",
        "    for j in remove_dont_care(min_junta, caixa_dc):\n",
        "        x = caixa_min.index(int(j))*(tamanho_min+1) \n",
        "        contaPrimos += 1\n",
        "        print(' '*abs(x-y)+' '*(tamanho_min-1)+'X',end='')\n",
        "        #dict1 = {}\n",
        "        \n",
        "        y = x+tamanho_min\n",
        "      \n",
        "        \n",
        "        try:\n",
        "            graf[j].append(i) if i not in graf[j] else None\n",
        "        except KeyError:\n",
        "            graf[j] = [i]\n",
        "    #gera ------ final\n",
        "    print('\\n'+'-'*(len(caixa_min)*(tamanho_min+1)+16))\n",
        "\n",
        "\n",
        "#Essencial\n",
        "essen = primos_implicantes_essenciais(graf)\n",
        "\n",
        "caixa_aux = caixa_min.copy()\n",
        "for i in range(len(caixa_aux)):\n",
        "    caixa_aux[i] = str(caixa_aux[i])\n",
        "    #caixa_aux[i] = \"|\" + str(caixa_aux[i]) +\"|\"\n",
        "caixa_aux.insert(0,'Mintermos')\n",
        "#montagem do dataframe Pandas\n",
        "\n",
        "#df = pd.DataFrame(index=np.arange(0, contaPrimos),columns=caixa_aux)\n",
        "#df = pd.DataFrame(index=np.arange(0, contaPrimos),columns=['Mintermos'])\n",
        "df = pd.DataFrame(index=np.arange(0, len(todosprimos)),columns=caixa_aux)\n",
        "\n",
        "df.fillna(' ', inplace=True)\n",
        "\n",
        "ct = 0\n",
        "#COLOCA OS MINTERMOS\n",
        "for i in todosprimos:\n",
        "   min_junta,y = encontra_Mintermos(i),0\n",
        "   for j in remove_dont_care(min_junta, caixa_dc):\n",
        "     aux = \"%s\"%','.join(min_junta)\n",
        "     if sum(df[\"Mintermos\"].astype(\"str\").str.contains(aux)) == 0:\n",
        "      try:\n",
        "        df.loc[ct]['Mintermos'] = ''.join(aux)\n",
        "         #df[ct]['Mintermos'].loc[df[aux]] = 'X'\n",
        "        ct = ct + 1\n",
        "      except KeyError:\n",
        "        #ct = ct + 1\n",
        "        print('ct=',ct)\n",
        "\n",
        "#COLOCA OS X\n",
        "for i in todosprimos:\n",
        "   min_junta,y = encontra_Mintermos(i),0\n",
        "   for j in remove_dont_care(min_junta, caixa_dc):\n",
        "    try:\n",
        "      df.loc[df['Mintermos'].str.contains(j), j] = 'X'\n",
        "    except ValueError:\n",
        "      print('')\n",
        "\n",
        "#df.sort_index(axis=1, inplace=True)\n",
        "#df = df.reindex(sorted(df.columns), axis=1)\n",
        "#df = df.sort_values(['Mintermos'], ascending=[1])\n",
        "df = df[ ['Mintermos'] + [ col for col in df.columns if col != 'Mintermos' ] ]\n",
        "#df.set_index('Mintermos', inplace=True)\n",
        "\n",
        "\n",
        "try:\n",
        " df.style.applymap(valor_X_colorir)\n",
        "except ValueError:\n",
        "    print('')\n",
        "\n",
        "\n",
        "\n",
        "print(\"\\nPrimo implicante essencial: \"+', '.join(str(i) for i in essen))\n",
        "remove_Mintermos(graf, essen)  \n",
        "if(len(graf) == 0):  \n",
        "    funcao = [mintermos_adjacentes(i) for i in essen] \n",
        "   \n",
        "else: \n",
        "    primo = [[mintermos_adjacentes(j) for j in graf[i]] for i in graf]\n",
        "   \n",
        "    while len(primo)>1:  \n",
        "        primo[1] = multiplica_expressoes(primo[0],primo[1])\n",
        "       \n",
        "        primo.pop(0)\n",
        "    funcao = [min(primo[0], key=len)] \n",
        "    funcao.extend(mintermos_adjacentes(i) for i in essen)  \n",
        "\n",
        "\n",
        "print('\\n \\t Função: \\n\\n F = '+' + '.join(''.join(i) for i in funcao))\n",
        "df"
      ],
      "execution_count": null,
      "outputs": [
        {
          "output_type": "display_data",
          "data": {
            "text/html": [
              "<style>\n",
              "  table.dataframe td, table.dataframe th{\n",
              "    border:1px solid #dadada;\n",
              "    font-size: 30px;\n",
              "  }\n",
              "  table.dataframe th{\n",
              "    font-family: 'Roboto','Noto',sans-serif;\n",
              "    background: #eeeeee;\n",
              "    font-weight: bold;\n",
              "   \n",
              "  }\n",
              "  table.dataframe td{\n",
              "    background: #ffffff;\n",
              "  }\n",
              "  table.dataframe tbody tr:hover th{\n",
              "    color: #ffffff;\n",
              "    background-color:#8B0000;\n",
              "  }\n",
              "  table.dataframe tr:hover td:hover{\n",
              "    color:#ffffff;\n",
              "    background-color:#FF0000;\n",
              "  }\n",
              "  </style>"
            ],
            "text/plain": [
              "<IPython.core.display.HTML object>"
            ]
          },
          "metadata": {}
        },
        {
          "output_type": "display_data",
          "data": {
            "text/html": [
              "<style>\n",
              "  table.dataframe td, table.dataframe th{\n",
              "    border:1px solid #dadada;\n",
              "    font-size: 30px;\n",
              "  }\n",
              "  table.dataframe th{\n",
              "    font-family: 'Roboto','Noto',sans-serif;\n",
              "    background: #eeeeee;\n",
              "    font-weight: bold;\n",
              "   \n",
              "  }\n",
              "  table.dataframe td{\n",
              "    background: #ffffff;\n",
              "  }\n",
              "  table.dataframe tbody tr:hover th{\n",
              "    color: #ffffff;\n",
              "    background-color:#8B0000;\n",
              "  }\n",
              "  table.dataframe tr:hover td:hover{\n",
              "    color:#ffffff;\n",
              "    background-color:#FF0000;\n",
              "  }\n",
              "  </style>"
            ],
            "text/plain": [
              "<IPython.core.display.HTML object>"
            ]
          },
          "metadata": {}
        },
        {
          "output_type": "display_data",
          "data": {
            "text/html": [
              "<style>\n",
              "  table.dataframe td, table.dataframe th{\n",
              "    border:1px solid #dadada;\n",
              "    font-size: 30px;\n",
              "  }\n",
              "  table.dataframe th{\n",
              "    font-family: 'Roboto','Noto',sans-serif;\n",
              "    background: #eeeeee;\n",
              "    font-weight: bold;\n",
              "   \n",
              "  }\n",
              "  table.dataframe td{\n",
              "    background: #ffffff;\n",
              "  }\n",
              "  table.dataframe tbody tr:hover th{\n",
              "    color: #ffffff;\n",
              "    background-color:#8B0000;\n",
              "  }\n",
              "  table.dataframe tr:hover td:hover{\n",
              "    color:#ffffff;\n",
              "    background-color:#FF0000;\n",
              "  }\n",
              "  </style>"
            ],
            "text/plain": [
              "<IPython.core.display.HTML object>"
            ]
          },
          "metadata": {}
        },
        {
          "output_type": "stream",
          "name": "stdout",
          "text": [
            "\n",
            "\n",
            "\n",
            "Tabela primos implicantes:\n",
            "\n",
            "      Mintermos     2    6    8    9   10   11   14   15\n",
            "========================================================\n",
            "2,6,10,14       |   X    X              X         X\n",
            "--------------------------------------------------------\n",
            "10,11,14,15     |                       X    X    X    X\n",
            "--------------------------------------------------------\n",
            "8,9,10,11       |             X    X    X    X\n",
            "--------------------------------------------------------\n",
            "\n",
            "Primo implicante essencial: --10, 1-1-, 10--\n",
            "\n",
            " \t Função: \n",
            "\n",
            " F = CD' + AC + AB'\n"
          ]
        },
        {
          "output_type": "execute_result",
          "data": {
            "text/html": [
              "<div>\n",
              "<style scoped>\n",
              "    .dataframe tbody tr th:only-of-type {\n",
              "        vertical-align: middle;\n",
              "    }\n",
              "\n",
              "    .dataframe tbody tr th {\n",
              "        vertical-align: top;\n",
              "    }\n",
              "\n",
              "    .dataframe thead th {\n",
              "        text-align: right;\n",
              "    }\n",
              "</style>\n",
              "<table border=\"1\" class=\"dataframe\">\n",
              "  <thead>\n",
              "    <tr style=\"text-align: right;\">\n",
              "      <th></th>\n",
              "      <th>Mintermos</th>\n",
              "      <th>2</th>\n",
              "      <th>6</th>\n",
              "      <th>8</th>\n",
              "      <th>9</th>\n",
              "      <th>10</th>\n",
              "      <th>11</th>\n",
              "      <th>14</th>\n",
              "      <th>15</th>\n",
              "    </tr>\n",
              "  </thead>\n",
              "  <tbody>\n",
              "    <tr>\n",
              "      <th>0</th>\n",
              "      <td>2,6,10,14</td>\n",
              "      <td>X</td>\n",
              "      <td>X</td>\n",
              "      <td></td>\n",
              "      <td></td>\n",
              "      <td>X</td>\n",
              "      <td></td>\n",
              "      <td>X</td>\n",
              "      <td></td>\n",
              "    </tr>\n",
              "    <tr>\n",
              "      <th>1</th>\n",
              "      <td>10,11,14,15</td>\n",
              "      <td></td>\n",
              "      <td></td>\n",
              "      <td></td>\n",
              "      <td></td>\n",
              "      <td>X</td>\n",
              "      <td>X</td>\n",
              "      <td>X</td>\n",
              "      <td>X</td>\n",
              "    </tr>\n",
              "    <tr>\n",
              "      <th>2</th>\n",
              "      <td>8,9,10,11</td>\n",
              "      <td></td>\n",
              "      <td></td>\n",
              "      <td>X</td>\n",
              "      <td>X</td>\n",
              "      <td>X</td>\n",
              "      <td>X</td>\n",
              "      <td></td>\n",
              "      <td></td>\n",
              "    </tr>\n",
              "  </tbody>\n",
              "</table>\n",
              "</div>"
            ],
            "text/plain": [
              "     Mintermos  2  6  8  9 10 11 14 15\n",
              "0    2,6,10,14  X  X        X     X   \n",
              "1  10,11,14,15              X  X  X  X\n",
              "2    8,9,10,11        X  X  X  X      "
            ]
          },
          "metadata": {},
          "execution_count": 18
        }
      ]
    }
  ]
}